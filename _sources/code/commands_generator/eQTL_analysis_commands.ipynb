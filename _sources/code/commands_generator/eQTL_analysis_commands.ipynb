{
 "cells": [
  {
   "cell_type": "markdown",
   "id": "above-tonight",
   "metadata": {
    "kernel": "SoS",
    "tags": []
   },
   "source": [
    "# Bulk RNA-seq eQTL analysis\n",
    "\n",
    "This notebook provide a master control on the XQTL workflow so it can automate the work before data preprocessing on multiple data collection as proposed.\n",
    "\n",
    "This master control notebook is mainly to serve the 8 tissues snuc_bulk_expression analysis, but should be functional on all analysis where expression data an\n",
    "\n",
    "Input:\n",
    "    A recipe file,each row is a data collection and with the following column:\n",
    "    \n",
    "    Theme\n",
    "        name of dataset, must be different, each uni_study analysis will be performed in a folder named after each, meta analysis will be performed in a folder named as {study1}_{study2}\n",
    "            \n",
    "        The column name must contain the # and be the first column\n",
    "    \n",
    "    genotype_file\n",
    "        {Path to a whole genome genotype file}\n",
    "    \n",
    "    molecular_pheno\n",
    "        {Path to file}\n",
    "        \n",
    "    covariate_file\n",
    "        {Path to file}\n",
    "    \n",
    "    ### note: Only data collection from the same Populations and conditions will me merged to perform Fix effect meta analysis\n",
    "    \n",
    "Output:\n",
    "    ..."
   ]
  },
  {
   "cell_type": "markdown",
   "id": "mobile-stanley",
   "metadata": {
    "kernel": "SoS"
   },
   "source": [
    "\n"
   ]
  },
  {
   "cell_type": "code",
   "execution_count": null,
   "id": "identified-reward",
   "metadata": {
    "kernel": "SoS"
   },
   "outputs": [],
   "source": [
    "\n",
    "nohup sos run ~/GIT/xqtl-pipeline/code/complete_analysis/eQTL_analysis_externalBed.ipynb factor --recipe /mnt/mfs/statgen/snuc_pseudo_bulk//data/recipe_8tissue_new \\\n",
    "    --annotation_gtf /mnt/mfs/statgen/snuc_pseudo_bulk/data/reference_data/genes.reformatted.gene.gtf \\\n",
    "    --sample_participant_lookup /mnt/mfs/statgen/snuc_pseudo_bulk/data/reference_data/sampleSheetAfterQC.txt -s build &\n",
    "\n",
    "nohup sos dryrun ~/GIT/xqtl-pipeline/code/complete_analysis/eQTL_analysis_externalBed.ipynb TensorQTL \\\n",
    "    --recipe /mnt/mfs/statgen/snuc_pseudo_bulk//data/recipe_8tissue_new     \\\n",
    "    --genotype_list /mnt/mfs/statgen/snuc_pseudo_bulk/data/genotype_qced/plink_files_list.txt      \\\n",
    "    --annotation_gtf /mnt/mfs/statgen/snuc_pseudo_bulk/data/reference_data/genes.reformatted.gene.gtf     \\\n",
    "    --sample_participant_lookup /mnt/mfs/statgen/snuc_pseudo_bulk/data/reference_data/sampleSheetAfterQC.txt -s build &\n",
    "\n",
    "\n",
    "\n"
   ]
  },
  {
   "cell_type": "raw",
   "id": "0bf547f6-e6f0-4d13-b6ad-16fb07b5a314",
   "metadata": {
    "kernel": "SoS"
   },
   "source": [
    "Theme molecular_pheno genotype_file covariate_file\n",
    "ALL /mnt/mfs/ctcn/team/masashi/snuc-eqtl/v20211109.celltypes/ALL/ALL.log2cpm.tsv /data/genotype_data/GRCh38_liftedover_sorted_all.add_chr.leftnorm.filtered.bed \n",
    "Ast /mnt/mfs/ctcn/team/masashi/snuc-eqtl/v20211109.celltypes/Ast/Ast.log2cpm.tsv /data/genotype_data/GRCh38_liftedover_sorted_all.add_chr.leftnorm.filtered.bed \n",
    "End /mnt/mfs/ctcn/team/masashi/snuc-eqtl/v20211109.celltypes/End/End.log2cpm.tsv /data/genotype_data/GRCh38_liftedover_sorted_all.add_chr.leftnorm.filtered.bed \n",
    "Exc /mnt/mfs/ctcn/team/masashi/snuc-eqtl/v20211109.celltypes/Exc/Exc.log2cpm.tsv /data/genotype_data/GRCh38_liftedover_sorted_all.add_chr.leftnorm.filtered.bed \n",
    "Fib /mnt/mfs/ctcn/team/masashi/snuc-eqtl/v20211109.celltypes/Fib/Fib.log2cpm.tsv /data/genotype_data/GRCh38_liftedover_sorted_all.add_chr.leftnorm.filtered.bed \n",
    "Inh /mnt/mfs/ctcn/team/masashi/snuc-eqtl/v20211109.celltypes/Inh/Inh.log2cpm.tsv /data/genotype_data/GRCh38_liftedover_sorted_all.add_chr.leftnorm.filtered.bed \n",
    "Mac /mnt/mfs/ctcn/team/masashi/snuc-eqtl/v20211109.celltypes/Mac/Mac.log2cpm.tsv /data/genotype_data/GRCh38_liftedover_sorted_all.add_chr.leftnorm.filtered.bed \n",
    "Mic /mnt/mfs/ctcn/team/masashi/snuc-eqtl/v20211109.celltypes/Mic/Mic.log2cpm.tsv /data/genotype_data/GRCh38_liftedover_sorted_all.add_chr.leftnorm.filtered.bed \n",
    "NFOL /mnt/mfs/ctcn/team/masashi/snuc-eqtl/v20211109.celltypes/NFOL/NFOL.log2cpm.tsv ata/genotype_data/GRCh38_liftedover_sorted_all.add_chr.leftnorm.filtered.be \n",
    "OPC /mnt/mfs/ctcn/team/masashi/snuc-eqtl/v20211109.celltypes/OPC/OPC.log2cpm.tsv /data/genotype_data/GRCh38_liftedover_sorted_all.add_chr.leftnorm.filtered.bed \n",
    "Oli /mnt/mfs/ctcn/team/masashi/snuc-eqtl/v20211109.celltypes/Oli/Oli.log2cpm.tsv /data/genotype_data/GRCh38_liftedover_sorted_all.add_chr.leftnorm.filtered.bed \n",
    "Peri /mnt/mfs/ctcn/team/masashi/snuc-eqtl/v20211109.celltypes/Peri/Peri.log2cpm.tsv data/genotype_data/GRCh38_liftedover_sorted_all.add_chr.leftnorm.filtered.be \n",
    "SMC /mnt/mfs/ctcn/team/masashi/snuc-eqtl/v20211109.celltypes/SMC/SMC.log2cpm.tsv /data/genotype_data/GRCh38_liftedover_sorted_all.add_chr.leftnorm.filtered.bed \n"
   ]
  },
  {
   "cell_type": "code",
   "execution_count": null,
   "id": "ffdca462-d6d6-4f8d-8db6-1df851abde5d",
   "metadata": {
    "kernel": "SoS"
   },
   "outputs": [],
   "source": [
    "/mnt/mfs/ctcn/team/masashi/snuc-eqtl/v20211109.celltypes/*/covariates-20211118.tsv"
   ]
  },
  {
   "cell_type": "markdown",
   "id": "intended-parliament",
   "metadata": {
    "kernel": "SoS"
   },
   "source": [
    "## Example for running the workflow\n",
    "This will run the workflow from via several submission and save the output to nohup.out"
   ]
  },
  {
   "cell_type": "code",
   "execution_count": null,
   "id": "abandoned-initial",
   "metadata": {
    "kernel": "SoS"
   },
   "outputs": [],
   "source": [
    "sos run ~/GIT/xqtl-pipeline/pipeline/eQTL_analysis_commands.ipynb TensorQTL \\\n",
    "    --recipe  <(cat /mnt/mfs/statgen/snuc_pseudo_bulk//data/recipe_8tissue_new  | head -2) \\\n",
    "    --genotype_list /mnt/mfs/statgen/snuc_pseudo_bulk/data/genotype_qced/plink_files_list.txt      \\\n",
    "    --annotation_gtf /mnt/mfs/statgen/snuc_pseudo_bulk/data/reference_data/genes.reformatted.gene.gtf     \\\n",
    "    --sample_participant_lookup /mnt/mfs/statgen/snuc_pseudo_bulk/data/reference_data/sampleSheetAfterQC.txt -n &\n",
    "\n",
    "sos run ~/GIT/xqtl-pipeline/pipeline/eQTL_analysis_commands.ipynb APEX \\\n",
    "    --recipe  <(cat /mnt/mfs/statgen/snuc_pseudo_bulk//data/recipe_8tissue_new  | head -2) \\\n",
    "    --genotype_list /mnt/mfs/statgen/snuc_pseudo_bulk/data/genotype_qced/plink_files_list.txt      \\\n",
    "    --annotation_gtf /mnt/mfs/statgen/snuc_pseudo_bulk/data/reference_data/genes.reformatted.gene.gtf     \\\n",
    "    --sample_participant_lookup /mnt/mfs/statgen/snuc_pseudo_bulk/data/reference_data/sampleSheetAfterQC.txt -n &\n",
    "\n",
    "\n",
    "sos run ~/GIT/xqtl-pipeline/pipeline/eQTL_analysis_commands.ipynb sumstat_merge  \\\n",
    "    --recipe  <(cat /mnt/mfs/statgen/snuc_pseudo_bulk//data/recipe_8tissue_new  | head -2)    \\\n",
    "    --genotype_list /mnt/mfs/statgen/snuc_pseudo_bulk/data/genotype_qced/plink_files_list.txt      \\\n",
    "    --annotation_gtf /mnt/mfs/statgen/snuc_pseudo_bulk/data/reference_data/genes.reformatted.gene.gtf     \\\n",
    "    --sample_participant_lookup /mnt/mfs/statgen/snuc_pseudo_bulk/data/reference_data/sampleSheetAfterQC.txt --Association_option \"TensorQTL\"   -n\n",
    "\n",
    "\n",
    "sos run ~/GIT/xqtl-pipeline/pipeline/eQTL_analysis_commands.ipynb sumstat_merge \\\n",
    "    --recipe  <(cat /mnt/mfs/statgen/snuc_pseudo_bulk//data/recipe_8tissue_new  | head -2) \\\n",
    "    --genotype_list /mnt/mfs/statgen/snuc_pseudo_bulk/data/genotype_qced/plink_files_list.txt      \\\n",
    "    --annotation_gtf /mnt/mfs/statgen/snuc_pseudo_bulk/data/reference_data/genes.reformatted.gene.gtf     \\\n",
    "    --sample_participant_lookup /mnt/mfs/statgen/snuc_pseudo_bulk/data/reference_data/sampleSheetAfterQC.txt -n\n",
    "\n",
    "\n",
    "\n",
    "sos run ~/GIT/xqtl-pipeline/pipeline/eQTL_analysis_commands.ipynb APEX \\\n",
    "    --recipe /mnt/mfs/statgen/snuc_pseudo_bulk/eight_tissue_analysis/recipe_ALL_celltype     \\\n",
    "    --genotype_list /mnt/mfs/statgen/snuc_pseudo_bulk/data/genotype_qced/plink_files_list.txt      \\\n",
    "    --annotation_gtf /mnt/mfs/statgen/snuc_pseudo_bulk/data/reference_data/genes.reformatted.gene.gtf     \\\n",
    "    --sample_participant_lookup /mnt/mfs/statgen/snuc_pseudo_bulk/data/reference_data/sampleSheetAfterQC.txt   &\n",
    "\n",
    "\n",
    "nohup sos run /home/hs3163/GIT/xqtl-pipeline/pipeline//genotype_formatting.ipynb plink_by_gene \\\n",
    "    --genoFile /mnt/mfs/statgen/snuc_pseudo_bulk/data/genotype_qced/GRCh38_liftedover_sorted_all.add_chr.leftnorm.filtered.renamed.filtered.renamed.filtered.filtered.bed \\\n",
    "    --cwd /mnt/mfs/statgen/snuc_pseudo_bulk/eight_tissue_analysis \\\n",
    "    --region_list  /mnt/mfs/statgen/snuc_pseudo_bulk/eight_tissue_analysis/data_preprocessing/ALL/phenotype_data/ALL.log2cpm.region_list \\\n",
    "    --container /mnt/mfs/statgen/containers/bioinfo.sif  -J 500 -c csg.yml -q csg\n",
    "\n",
    "sos dryrun ~/GIT/xqtl-pipeline/pipeline/eQTL_analysis_commands.ipynb plink_by_gene \\\n",
    "    --recipe /mnt/mfs/statgen/snuc_pseudo_bulk//data/recipe_8tissue_new     \\\n",
    "    --ref_fasta /mnt/mfs/statgen/snuc_pseudo_bulk/data/reference_data/GRCh38_full_analysis_set_plus_decoy_hla.noALT_noHLA_noDecoy_ERCC.fasta    \\\n",
    "    --genoFile  /mnt/mfs/statgen/snuc_pseudo_bulk/data/genotype_data/GRCh38_liftedover_sorted_all.vcf.gz \\\n",
    "    --dbSNP_vcf  /mnt/mfs/statgen/snuc_pseudo_bulk/data/reference_data/00-All.vcf.gz \\\n",
    "    --sample_participant_lookup /mnt/mfs/statgen/snuc_pseudo_bulk/data/reference_data/sampleSheetAfterQC.txt  > genotype_script &\n",
    "\n",
    "sos dryrun ~/GIT/xqtl-pipeline/pipeline/eQTL_analysis_commands.ipynb UniSuSiE \\\n",
    "    --recipe /mnt/mfs/statgen/snuc_pseudo_bulk//data/recipe_8tissue_new     \\\n",
    "    --genoFile /mnt/mfs/statgen/snuc_pseudo_bulk/data/genotype_qced/GRCh38_liftedover_sorted_all.add_chr.leftnorm.filtered.renamed.filtered.renamed.filtered.filtered.bed \\\n",
    "    --annotation_gtf /mnt/mfs/statgen/snuc_pseudo_bulk/data/reference_data/genes.reformatted.gene.gtf     \\\n",
    "    --sample_participant_lookup /mnt/mfs/statgen/snuc_pseudo_bulk/data/reference_data/sampleSheetAfterQC.txt \n",
    "\n",
    "\n",
    "sos run ~/GIT/xqtl-pipeline/pipeline/eQTL_analysis_commands.ipynb UniSuSiE \\\n",
    "    --recipe <(cat /mnt/mfs/statgen/snuc_pseudo_bulk//data/recipe_8tissue_new  | head -2)      \\\n",
    "    --genoFile /mnt/mfs/statgen/snuc_pseudo_bulk/data/genotype_qced/GRCh38_liftedover_sorted_all.add_chr.leftnorm.filtered.renamed.filtered.renamed.filtered.filtered.bed \\\n",
    "    --annotation_gtf /mnt/mfs/statgen/snuc_pseudo_bulk/data/reference_data/genes.reformatted.gene.gtf     \\\n",
    "    --sample_participant_lookup /mnt/mfs/statgen/snuc_pseudo_bulk/data/reference_data/sampleSheetAfterQC.txt -n \n",
    "\n",
    "\n",
    "\n",
    " Eight_tissue_scripts &\n",
    "\n",
    "\n",
    "\n",
    "sos dryrun ~/GIT/xqtl-pipeline/pipeline/eQTL_analysis_commands.ipynb plink_per_chrom \\\n",
    "    --recipe /mnt/mfs/statgen/snuc_pseudo_bulk//data/recipe_8tissue_new     \\\n",
    "    --ref_fasta /mnt/mfs/statgen/snuc_pseudo_bulk/data/reference_data/GRCh38_full_analysis_set_plus_decoy_hla.noALT_noHLA_noDecoy_ERCC.fasta    \\\n",
    "    --genoFile  /mnt/mfs/statgen/snuc_pseudo_bulk/data/genotype_data/GRCh38_liftedover_sorted_all.vcf.gz \\\n",
    "    --dbSNP_vcf  /mnt/mfs/statgen/snuc_pseudo_bulk/data/reference_data/00-All.vcf.gz \\\n",
    "    --sample_participant_lookup /mnt/mfs/statgen/snuc_pseudo_bulk/data/reference_data/sampleSheetAfterQC.txt  > genotype_script &"
   ]
  },
  {
   "cell_type": "code",
   "execution_count": null,
   "id": "4eda8d0a-3048-49de-85fb-d7cd9b3c35dd",
   "metadata": {
    "kernel": "SoS"
   },
   "outputs": [],
   "source": [
    "sos dryrun /home/hs3163/GIT/xqtl-pipeline/pipeline/genotype_formatting.ipynb plink_by_gene \\\n",
    "    --genoFile /mnt/mfs/statgen/snuc_pseudo_bulk/data/genotype_qced/GRCh38_liftedover_sorted_all.add_chr.leftnorm.filtered.renamed.filtered.renamed.filtered.filtered.bed \\\n",
    "    --cwd /mnt/mfs/statgen/snuc_pseudo_bulk/eight_tissue_analysis \\\n",
    "    --region_list  /mnt/mfs/statgen/snuc_pseudo_bulk/eight_tissue_analysis/data_preprocessing/ALL/phenotype_data/ALL.log2cpm.region_list \\\n",
    "    --container /mnt/mfs/statgen/containers/bioinfo.sif  -J 500 -c csg.yml -q csg\n",
    "\n",
    "\n",
    "sos dryrun /home/hs3163/GIT/xqtl-pipeline/pipeline/APEX.ipynb APEX_cis \\\n",
    "    --genotype_file_list /mnt/mfs/statgen/snuc_pseudo_bulk/data/genotype_qced/plink_files_list.txt   \\\n",
    "    --molecular_pheno_list /mnt/mfs/statgen/snuc_pseudo_bulk/eight_tissue_analysis/data_preprocessing/ALL/phenotype_data/ALL.log2cpm.bed.processed_phenotype.per_chrom.recipe \\\n",
    "    --grm_list  /mnt/mfs/statgen/snuc_pseudo_bulk/eight_tissue_analysis/data_preprocessing/genotype/grm/plink_files_list.loco_grm_list.txt  \\\n",
    "    --covariate data_preprocessing/ALL/covariates/ALL.covariate.pca.BiCV.cov.gz    \\\n",
    "    --cwd /mnt/mfs/statgen/snuc_pseudo_bulk/eight_tissue_analysis/Association_scan/ALL/APEX  \\\n",
    "    --container /mnt/mfs/statgen/containers//APEX.sif\n",
    "\n",
    " nohup sos run /home/hs3163/GIT/xqtl-pipeline/pipeline/APEX.ipynb APEX_cis --genotype_file_list /mnt/mfs/statgen/snuc_pseudo_bulk/eight_tissue_analysis/GRCh38_liftedover_sorted_all.add_chr.leftnorm.filtered.renamed.filtered.renamed.filtered.filtered.vcf_files_list.txt --molecular_pheno_list /mnt/mfs/statgen/snuc_pseudo_bulk/eight_tissue_analysis/data_preprocessing/ALL/phenotype_data/ALL.log2cpm.bed.processed_phenotype.per_chrom.recipe --grm_list data_preprocessing/genotype/grm/plink_files_list.loco_grm_list.txt --covariate data_preprocessing/ALL/covariates/ALL.covariate.pca.BiCV.cov.gz --cwd /mnt/mfs/statgen/snuc_pseudo_bulk/eight_tissue_analysis/Association_scan/ALL/APEX --container /mnt/mfs/statgen/containers/apex.sif -J 50 -c csg.yml -q csg\n",
    "    \n",
    "    \n",
    "    \n",
    "sos run /home/hs3163/GIT/xqtl-pipeline/pipeline/SuSiE.ipynb uni_susie    \\\n",
    "    --genoFile <(head -2 /mnt/mfs/statgen/snuc_pseudo_bulk/eight_tissue_analysis/ALL.log2cpm_plink_files/GRCh38_liftedover_sorted_all.add_chr.leftnorm.filtered.renamed.filtered.renamed.filtered.filtered.plink_files_list.txt)   \\\n",
    "    --phenoFile /mnt/mfs/statgen/snuc_pseudo_bulk/eight_tissue_analysis/data_preprocessing/ALL/phenotype_data/ALL.log2cpm.bed.gz  \\\n",
    "    --covFile data_preprocessing/ALL/covariates/ALL.log2cpm.resid.PEER.cov.gz    \\\n",
    "    --cwd /mnt/mfs/statgen/snuc_pseudo_bulk/eight_tissue_analysis/Fine_mapping/UniSuSiE   \\\n",
    "    --tissues ALL   \\\n",
    "    --region-list <(head /mnt/mfs/statgen/snuc_pseudo_bulk/eight_tissue_analysis/data_preprocessing/ALL/phenotype_data/ALL.log2cpm.region_list) \\\n",
    "    --container /mnt/mfs/statgen/containers/stephenslab.sif -J 50 -c csg.yml -q csg -n & "
   ]
  },
  {
   "cell_type": "code",
   "execution_count": null,
   "id": "a9d559e3-5b25-467c-8634-6f58e5d80663",
   "metadata": {
    "kernel": "SoS"
   },
   "outputs": [],
   "source": [
    "apex cis --vcf /mnt/mfs/statgen/snuc_pseudo_bulk/eight_tissue_analysis/GRCh38_liftedover_sorted_all.add_chr.leftnorm.filtered.renamed.filtered.renamed.filtered.filtered.chr21.vcf.gz \\\n",
    "--bed /mnt/mfs/statgen/snuc_pseudo_bulk/eight_tissue_analysis/data_preprocessing/ALL/phenotype_data/ALL.log2cpm.bed.chr21.mol_phe.bed.gz \\\n",
    "--cov data_preprocessing/ALL/covariates/ALL.covariate.pca.BiCV.cov.gz \\\n",
    "--out /mnt/mfs/statgen/snuc_pseudo_bulk/eight_tissue_analysis/Association_scan/test_apex/ALL.log2cpm.bed.chr21.mol_phe.OLS_winSpecified \\\n",
    "--long  \\\n",
    "--window '1000000'"
   ]
  },
  {
   "cell_type": "code",
   "execution_count": 1,
   "id": "602f0969-213e-41a7-b0c1-a41a74b0b7c6",
   "metadata": {
    "kernel": "Bash",
    "tags": []
   },
   "outputs": [
    {
     "name": "stdout",
     "output_type": "stream",
     "text": [
      "INFO: Checking \u001b[32msample_match\u001b[0m: \n",
      "HINT: report:\n",
      "sos run /home/hs3163/GIT/xqtl-pipeline/pipeline/sample_matcher.ipynb filtered_sample_list \\\n",
      "    --cwd /mnt/mfs/hgrcgrid/homes/hs3163/GIT/xqtl-pipeline/code/commands_generator/data_preprocessing/ALL  \\\n",
      "    --phenoFile /mnt/mfs/statgen/snuc_pseudo_bulk/data/phenotype_data_all/ALL.log2cpm.tsv  \\\n",
      "    --genoFile /mnt/mfs/statgen/snuc_pseudo_bulk/data/genotype_data/GRCh38_liftedover_sorted_all.add_chr.leftnorm.filtered.renamed.filtered.renamed.filtered.fam  \\\n",
      "    --sample-participant-lookup /mnt/mfs/statgen/snuc_pseudo_bulk/data/reference_data/sampleSheetAfterQC.txt \\\n",
      "    --container /mnt/mfs/statgen/containers/rna_quantification.sif \\\n",
      "    --translated_phenoFile \n",
      "\n",
      "\n",
      "INFO: \u001b[32msample_match\u001b[0m is \u001b[32mcompleted\u001b[0m.\n",
      "INFO: \u001b[32msample_match\u001b[0m output:   \u001b[32m/mnt/mfs/hgrcgrid/homes/hs3163/GIT/xqtl-pipeline/code/commands_generator/data_preprocessing/ALL/sampleSheetAfterQC.filtered.txt /mnt/mfs/hgrcgrid/homes/hs3163/GIT/xqtl-pipeline/code/commands_generator/data_preprocessing/ALL/sampleSheetAfterQC.filtered_geno.txt\u001b[0m\n",
      "INFO: Checking \u001b[32mannotation\u001b[0m: \n",
      "HINT: report:\n",
      "sos run /home/hs3163/GIT/xqtl-pipeline/pipeline/gene_annotation.ipynb annotate_coord \\\n",
      "  --cwd /mnt/mfs/hgrcgrid/homes/hs3163/GIT/xqtl-pipeline/code/commands_generator/data_preprocessing/ALL/phenotype_data \\\n",
      "  --phenoFile /mnt/mfs/statgen/snuc_pseudo_bulk/data/phenotype_data_all/ALL.log2cpm.tsv \\\n",
      "  --annotation-gtf /mnt/mfs/statgen/snuc_pseudo_bulk/data/reference_data/genes.reformatted.gene.gtf \\\n",
      "  --sample-participant-lookup /mnt/mfs/statgen/snuc_pseudo_bulk/data/reference_data/sampleSheetAfterQC.txt \\\n",
      "  --container /mnt/mfs/statgen/containers/rna_quantification.sif \\\n",
      "  --phenotype-id-type gene_name \n",
      "\n",
      "\n",
      "INFO: \u001b[32mannotation\u001b[0m is \u001b[32mcompleted\u001b[0m.\n",
      "INFO: \u001b[32mannotation\u001b[0m output:   \u001b[32m/mnt/mfs/hgrcgrid/homes/hs3163/GIT/xqtl-pipeline/code/commands_generator/data_preprocessing/ALL/phenotype_data/ALL.log2cpm.bed.gz\u001b[0m\n",
      "INFO: Checking \u001b[32mking\u001b[0m: \n",
      "HINT: report:\n",
      "sos run /home/hs3163/GIT/xqtl-pipeline/pipeline/GWAS_QC.ipynb king \\\n",
      "   --cwd /mnt/mfs/hgrcgrid/homes/hs3163/GIT/xqtl-pipeline/code/commands_generator/data_preprocessing/ALL/genotype_data \\\n",
      "   --genoFile /mnt/mfs/statgen/snuc_pseudo_bulk/data/genotype_data/GRCh38_liftedover_sorted_all.add_chr.leftnorm.filtered.renamed.filtered.renamed.filtered.bed \\\n",
      "   --name ALL \\\n",
      "   --keep-samples /mnt/mfs/hgrcgrid/homes/hs3163/GIT/xqtl-pipeline/code/commands_generator/data_preprocessing/ALL/sampleSheetAfterQC.filtered_geno.txt \\\n",
      "   --container /mnt/mfs/statgen/containers/bioinfo.sif \\\n",
      "   --walltime 48h  \n",
      "\n",
      "\n",
      "INFO: \u001b[32mking\u001b[0m is \u001b[32mcompleted\u001b[0m.\n",
      "INFO: \u001b[32mking\u001b[0m output:   \u001b[32m/mnt/mfs/hgrcgrid/homes/hs3163/GIT/xqtl-pipeline/code/commands_generator/data_preprocessing/ALL/genotype_data/GRCh38_liftedover_sorted_all.add_chr.leftnorm.filtered.renamed.filtered.renamed.filtered.ALL.related.bed /mnt/mfs/hgrcgrid/homes/hs3163/GIT/xqtl-pipeline/code/commands_generator/data_preprocessing/ALL/genotype_data/GRCh38_liftedover_sorted_all.add_chr.leftnorm.filtered.renamed.filtered.renamed.filtered.ALL.unrelated.bed\u001b[0m\n",
      "INFO: Checking \u001b[32mregion_list_generation\u001b[0m: \n",
      "HINT: report:\n",
      "sos run /home/hs3163/GIT/xqtl-pipeline/pipeline/gene_annotation.ipynb region_list_generation \\\n",
      "    --cwd /mnt/mfs/hgrcgrid/homes/hs3163/GIT/xqtl-pipeline/code/commands_generator/data_preprocessing/ALL/phenotype_data  \\\n",
      "    --phenoFile /mnt/mfs/hgrcgrid/homes/hs3163/GIT/xqtl-pipeline/code/commands_generator/data_preprocessing/ALL/phenotype_data/ALL.log2cpm.bed.gz\\\n",
      "    --annotation-gtf /mnt/mfs/statgen/snuc_pseudo_bulk/data/reference_data/genes.reformatted.gene.gtf \\\n",
      "    --sample-participant-lookup /mnt/mfs/statgen/snuc_pseudo_bulk/data/reference_data/sampleSheetAfterQC.txt \\\n",
      "    --container /mnt/mfs/statgen/containers/rna_quantification.sif \\\n",
      "    --phenotype-id-type gene_name \n",
      "\n",
      "\n",
      "INFO: \u001b[32mregion_list_generation\u001b[0m is \u001b[32mcompleted\u001b[0m.\n",
      "INFO: \u001b[32mregion_list_generation\u001b[0m output:   \u001b[32m/mnt/mfs/hgrcgrid/homes/hs3163/GIT/xqtl-pipeline/code/commands_generator/data_preprocessing/ALL/phenotype_data/ALL.log2cpm.region_list\u001b[0m\n",
      "INFO: Checking \u001b[32munrelated_QC\u001b[0m: \n",
      "INFO: Checking \u001b[32mphenotype_partition_by_chrom\u001b[0m: \n",
      "HINT: report:\n",
      "sos run /home/hs3163/GIT/xqtl-pipeline/pipeline/GWAS_QC.ipynb qc \\\n",
      "   --cwd /mnt/mfs/hgrcgrid/homes/hs3163/GIT/xqtl-pipeline/code/commands_generator/data_preprocessing/ALL/genotype_data \\\n",
      "   --genoFile /mnt/mfs/hgrcgrid/homes/hs3163/GIT/xqtl-pipeline/code/commands_generator/data_preprocessing/ALL/genotype_data/GRCh38_liftedover_sorted_all.add_chr.leftnorm.filtered.renamed.filtered.renamed.filtered.ALL.unrelated.bed \\\n",
      "   --exclude-variants /mnt/mfs/statgen/snuc_pseudo_bulk/Ast/genotype/dupe_snp_to_exclude \\\n",
      "   --maf-filter 0.05 \\\n",
      "   --container /mnt/mfs/statgen/containers/bioinfo.sif \\\n",
      "   --mem 40G   \n",
      "\n",
      "\n",
      "INFO: \u001b[32munrelated_QC\u001b[0m is \u001b[32mcompleted\u001b[0m.\n",
      "HINT: report:\n",
      "sos run /home/hs3163/GIT/xqtl-pipeline/pipeline/phenotype_formatting.ipynb partition_by_chrom \\\n",
      "    --cwd /mnt/mfs/hgrcgrid/homes/hs3163/GIT/xqtl-pipeline/code/commands_generator/data_preprocessing/ALL/phenotype_data  \\\n",
      "    --phenoFile /mnt/mfs/hgrcgrid/homes/hs3163/GIT/xqtl-pipeline/code/commands_generator/data_preprocessing/ALL/phenotype_data/ALL.log2cpm.bed.gz \\\n",
      "    --region-list /mnt/mfs/hgrcgrid/homes/hs3163/GIT/xqtl-pipeline/code/commands_generator/data_preprocessing/ALL/phenotype_data/ALL.log2cpm.region_list \\\n",
      "    --container /mnt/mfs/statgen/containers/rna_quantification.sif \\\n",
      "    --mem 4G      \n",
      "\n",
      "\n",
      "INFO: \u001b[32mphenotype_partition_by_chrom\u001b[0m is \u001b[32mcompleted\u001b[0m.\n",
      "INFO: \u001b[32munrelated_QC\u001b[0m output:   \u001b[32m/mnt/mfs/hgrcgrid/homes/hs3163/GIT/xqtl-pipeline/code/commands_generator/data_preprocessing/ALL/genotype_data/GRCh38_liftedover_sorted_all.add_chr.leftnorm.filtered.renamed.filtered.renamed.filtered.ALL.unrelated.filtered.prune.bed /mnt/mfs/hgrcgrid/homes/hs3163/GIT/xqtl-pipeline/code/commands_generator/data_preprocessing/ALL/genotype_data/GRCh38_liftedover_sorted_all.add_chr.leftnorm.filtered.renamed.filtered.renamed.filtered.ALL.unrelated.filtered.prune.in\u001b[0m\n",
      "INFO: \u001b[32mphenotype_partition_by_chrom\u001b[0m output:   \u001b[32m/mnt/mfs/hgrcgrid/homes/hs3163/GIT/xqtl-pipeline/code/commands_generator/data_preprocessing/ALL/phenotype_data/ALL.log2cpm.bed.processed_phenotype.per_chrom.recipe\u001b[0m\n",
      "INFO: Checking \u001b[32mpca\u001b[0m: \n",
      "INFO: Checking \u001b[32mrelated_QC\u001b[0m: \n",
      "HINT: report:\n",
      "sos run /home/hs3163/GIT/xqtl-pipeline/pipeline/PCA.ipynb flashpca \\\n",
      "   --cwd data_preprocessing/ALL/pca data_preprocessing/ALL/pca \\\n",
      "   --genoFile /mnt/mfs/hgrcgrid/homes/hs3163/GIT/xqtl-pipeline/code/commands_generator/data_preprocessing/ALL/genotype_data/GRCh38_liftedover_sorted_all.add_chr.leftnorm.filtered.renamed.filtered.renamed.filtered.ALL.unrelated.filtered.prune.bed \\\n",
      "   --container /mnt/mfs/statgen/containers/flashpcaR.sif  \n",
      "\n",
      "\n",
      "INFO: \u001b[32mpca\u001b[0m is \u001b[32mcompleted\u001b[0m.\n",
      "INFO: \u001b[32mpca\u001b[0m output:   \u001b[32mdata_preprocessing/ALL/pca/GRCh38_liftedover_sorted_all.add_chr.leftnorm.filtered.renamed.filtered.renamed.filtered.ALL.unrelated.filtered.prune.pca.rds data_preprocessing/ALL/pca/GRCh38_liftedover_sorted_all.add_chr.leftnorm.filtered.renamed.filtered.renamed.filtered.ALL.unrelated.filtered.prune.pca.scree.txt\u001b[0m\n",
      "HINT: report:\n",
      "sos run /home/hs3163/GIT/xqtl-pipeline/pipeline/GWAS_QC.ipynb qc_no_prune \\\n",
      "   --cwd /mnt/mfs/hgrcgrid/homes/hs3163/GIT/xqtl-pipeline/code/commands_generator/data_preprocessing/ALL/genotype_data \\\n",
      "   --genoFile /mnt/mfs/hgrcgrid/homes/hs3163/GIT/xqtl-pipeline/code/commands_generator/data_preprocessing/ALL/genotype_data/GRCh38_liftedover_sorted_all.add_chr.leftnorm.filtered.renamed.filtered.renamed.filtered.ALL.related.bed \\\n",
      "   --exclude-variants /mnt/mfs/statgen/snuc_pseudo_bulk/Ast/genotype/dupe_snp_to_exclude \\\n",
      "   --maf-filter 0 \\\n",
      "   --geno-filter 0 \\\n",
      "   --mind-filter 0.1 \\\n",
      "   --hwe-filter 0 \\\n",
      "   --keep-variants /mnt/mfs/hgrcgrid/homes/hs3163/GIT/xqtl-pipeline/code/commands_generator/data_preprocessing/ALL/genotype_data/GRCh38_liftedover_sorted_all.add_chr.leftnorm.filtered.renamed.filtered.renamed.filtered.ALL.unrelated.filtered.prune.in  \\\n",
      "   --container /mnt/mfs/statgen/containers/bioinfo.sif  \\\n",
      "   --mem 40G   \n",
      "\n",
      "\n",
      "INFO: \u001b[32mrelated_QC\u001b[0m is \u001b[32mcompleted\u001b[0m.\n",
      "INFO: \u001b[32mrelated_QC\u001b[0m output:   \u001b[32m/mnt/mfs/hgrcgrid/homes/hs3163/GIT/xqtl-pipeline/code/commands_generator/data_preprocessing/ALL/genotype_data/GRCh38_liftedover_sorted_all.add_chr.leftnorm.filtered.renamed.filtered.renamed.filtered.ALL.related.filtered.extracted.bed\u001b[0m\n",
      "INFO: Checking \u001b[32mprojected_sample\u001b[0m: \n",
      "HINT: report:\n",
      "sos run /home/hs3163/GIT/xqtl-pipeline/pipeline/PCA.ipynb project_samples \\\n",
      "        --cwd data_preprocessing/ALL/pca data_preprocessing/ALL/pca \\\n",
      "        --genoFile /mnt/mfs/hgrcgrid/homes/hs3163/GIT/xqtl-pipeline/code/commands_generator/data_preprocessing/ALL/genotype_data/GRCh38_liftedover_sorted_all.add_chr.leftnorm.filtered.renamed.filtered.renamed.filtered.ALL.related.filtered.extracted.bed \\\n",
      "        --pca-model  data_preprocessing/ALL/pca/GRCh38_liftedover_sorted_all.add_chr.leftnorm.filtered.renamed.filtered.renamed.filtered.ALL.unrelated.filtered.prune.pca.rds \\\n",
      "        --maha-k `awk '$3 < 0.7' data_preprocessing/ALL/pca/GRCh38_liftedover_sorted_all.add_chr.leftnorm.filtered.renamed.filtered.renamed.filtered.ALL.unrelated.filtered.prune.pca.scree.txt | tail -1 | cut -f 1  ` \\\n",
      "        --container /mnt/mfs/statgen/containers/flashpcaR.sif  \n",
      "\n",
      "\n",
      "INFO: \u001b[32mprojected_sample\u001b[0m is \u001b[32mcompleted\u001b[0m.\n",
      "INFO: \u001b[32mprojected_sample\u001b[0m output:   \u001b[32mdata_preprocessing/ALL/pca/GRCh38_liftedover_sorted_all.add_chr.leftnorm.filtered.renamed.filtered.renamed.filtered.ALL.related.filtered.extracted.pca.projected.rds data_preprocessing/ALL/pca/GRCh38_liftedover_sorted_all.add_chr.leftnorm.filtered.renamed.filtered.renamed.filtered.ALL.related.filtered.extracted.pca.projected.scree.txt\u001b[0m\n",
      "INFO: Checking \u001b[32mmerge_pca_covariate\u001b[0m: \n",
      "HINT: report:\n",
      "sos run /home/hs3163/GIT/xqtl-pipeline/pipeline/covariate_formatting.ipynb merge_pca_covariate \\\n",
      "        --cwd data_preprocessing/ALL/covariates \\\n",
      "        --pcaFile /mnt/mfs/hgrcgrid/homes/hs3163/GIT/xqtl-pipeline/code/commands_generator/data_preprocessing/ALL/pca/GRCh38_liftedover_sorted_all.add_chr.leftnorm.filtered.renamed.filtered.renamed.filtered.ALL.related.filtered.extracted.pca.projected.rds /mnt/mfs/hgrcgrid/homes/hs3163/GIT/xqtl-pipeline/code/commands_generator/data_preprocessing/ALL/pca/GRCh38_liftedover_sorted_all.add_chr.leftnorm.filtered.renamed.filtered.renamed.filtered.ALL.related.filtered.extracted.pca.projected.scree.txt \\\n",
      "        --covFile  /mnt/mfs/statgen/snuc_pseudo_bulk/data/covariate_data/ALL.covariate.tsv \\\n",
      "        --tol_cov 0.3  \\\n",
      "        --k `awk '$3 < 0.7' data_preprocessing/ALL/pca/GRCh38_liftedover_sorted_all.add_chr.leftnorm.filtered.renamed.filtered.renamed.filtered.ALL.related.filtered.extracted.pca.projected.scree.txt | tail -1 | cut -f 1 `\n",
      "        --container /mnt/mfs/statgen/containers/bioinfo.sif \n",
      "\n",
      "\n",
      "INFO: \u001b[32mmerge_pca_covariate\u001b[0m is \u001b[32mcompleted\u001b[0m.\n",
      "INFO: \u001b[32mmerge_pca_covariate\u001b[0m output:   \u001b[32mdata_preprocessing/ALL/covariates/ALL.covariate.pca.cov.gz\u001b[0m\n",
      "INFO: Checking \u001b[32mresid_exp\u001b[0m: \n",
      "HINT: report:\n",
      "sos run /home/hs3163/GIT/xqtl-pipeline/pipeline/covariate_formatting.ipynb Residual_Y \\\n",
      "        --cwd data_preprocessing/ALL/phenotype \\\n",
      "        --phenoFile /mnt/mfs/hgrcgrid/homes/hs3163/GIT/xqtl-pipeline/code/commands_generator/data_preprocessing/ALL/phenotype_data/ALL.log2cpm.bed.gz \\\n",
      "        --covFile  /mnt/mfs/hgrcgrid/homes/hs3163/GIT/xqtl-pipeline/code/commands_generator/data_preprocessing/ALL/covariates/ALL.covariate.pca.cov.gz \\\n",
      "        --container /mnt/mfs/statgen/containers/bioinfo.sif \n",
      "\n",
      "\n",
      "INFO: \u001b[32mresid_exp\u001b[0m is \u001b[32mcompleted\u001b[0m.\n",
      "INFO: \u001b[32mresid_exp\u001b[0m output:   \u001b[32mdata_preprocessing/ALL/phenotype/ALL.log2cpm.resid.bed.gz\u001b[0m\n",
      "INFO: Checking \u001b[32mfactor\u001b[0m: \n",
      "script_6697980166679677035:4: SyntaxWarning: \"is\" with a literal. Did you mean \"==\"?\n",
      "HINT: report:\n",
      "sos run /home/hs3163/GIT/xqtl-pipeline/pipeline/PEER_factor.ipynb PEER \\\n",
      "   --cwd data_preprocessing/ALL/covariates \\\n",
      "   --phenoFile /mnt/mfs/hgrcgrid/homes/hs3163/GIT/xqtl-pipeline/code/commands_generator/data_preprocessing/ALL/phenotype/ALL.log2cpm.resid.bed.gz  \\\n",
      "   --container /mnt/mfs/statgen/containers/PEER.sif  \\\n",
      "   --walltime 24h \\\n",
      "   --numThreads 8 \\\n",
      "   --iteration 1000 \\\n",
      "   --N 60  \n",
      "\n",
      "\n",
      "INFO: \u001b[32mfactor\u001b[0m is \u001b[32mcompleted\u001b[0m.\n",
      "INFO: \u001b[32mfactor\u001b[0m output:   \u001b[32mdata_preprocessing/ALL/covariates/ALL.log2cpm.resid.PEER.cov.gz\u001b[0m\n",
      "INFO: Checking \u001b[32mmerge_factor_covariate\u001b[0m: \n",
      "HINT: report:\n",
      "sos run /home/hs3163/GIT/xqtl-pipeline/pipeline/covariate_formatting.ipynb merge_factor_covariate \\\n",
      "        --cwd data_preprocessing/ALL/covariates \\\n",
      "        --factorFile /mnt/mfs/hgrcgrid/homes/hs3163/GIT/xqtl-pipeline/code/commands_generator/data_preprocessing/ALL/covariates/ALL.log2cpm.resid.PEER.cov.gz \\\n",
      "        --covFile  /mnt/mfs/hgrcgrid/homes/hs3163/GIT/xqtl-pipeline/code/commands_generator/data_preprocessing/ALL/covariates/ALL.covariate.pca.cov.gz \\\n",
      "        --container /mnt/mfs/statgen/containers/bioinfo.sif \n",
      "\n",
      "\n",
      "INFO: \u001b[32mmerge_factor_covariate\u001b[0m is \u001b[32mcompleted\u001b[0m.\n",
      "INFO: \u001b[32mmerge_factor_covariate\u001b[0m output:   \u001b[32mdata_preprocessing/ALL/covariates/ALL.covariate.pca.PEER.cov.gz\u001b[0m\n",
      "INFO: Checking \u001b[32mTensorQTL\u001b[0m: \n",
      "HINT: report:\n",
      "sos run /home/hs3163/GIT/xqtl-pipeline/pipeline/TensorQTL.ipynb TensorQTL_cis \\\n",
      "    --genotype_file_list /mnt/mfs/statgen/snuc_pseudo_bulk/data/genotype_qced/plink_files_list.txt   \\\n",
      "    --molecular_pheno_list /mnt/mfs/hgrcgrid/homes/hs3163/GIT/xqtl-pipeline/code/commands_generator/data_preprocessing/ALL/phenotype_data/ALL.log2cpm.bed.processed_phenotype.per_chrom.recipe \\\n",
      "    --covariate data_preprocessing/ALL/covariates/ALL.covariate.pca.PEER.cov.gz    \\\n",
      "    --cwd /mnt/mfs/hgrcgrid/homes/hs3163/GIT/xqtl-pipeline/code/commands_generator/Association_scan/ALL/TensorQTL  \\\n",
      "    --container /mnt/mfs/statgen/containers//TensorQTL.sif \n",
      "\n",
      "\n",
      "INFO: \u001b[32mTensorQTL\u001b[0m is \u001b[32mcompleted\u001b[0m.\n",
      "INFO: \u001b[32mTensorQTL\u001b[0m output:   \u001b[32m/mnt/mfs/hgrcgrid/homes/hs3163/GIT/xqtl-pipeline/code/commands_generator/Association_scan/ALL/TensorQTL/TensorQTL_recipe.tsv\u001b[0m\n",
      "INFO: Checking \u001b[32myml_generation\u001b[0m: \n",
      "HINT: report:\n",
      "sos run /home/hs3163/GIT/xqtl-pipeline/pipeline/yml_generator.ipynb yml_list \\\n",
      "    --sumstat-list /mnt/mfs/hgrcgrid/homes/hs3163/GIT/xqtl-pipeline/code/commands_generator/Association_scan/ALL/TensorQTL/TensorQTL_recipe.tsv \\\n",
      "    --cwd  /mnt/mfs/hgrcgrid/homes/hs3163/GIT/xqtl-pipeline/code/commands_generator/Data_intergration --name ALL \n",
      "\n",
      "\n",
      "\n",
      "\n",
      "INFO: \u001b[32myml_generation\u001b[0m is \u001b[32mcompleted\u001b[0m.\n",
      "INFO: \u001b[32myml_generation\u001b[0m output:   \u001b[32m/mnt/mfs/hgrcgrid/homes/hs3163/GIT/xqtl-pipeline/code/commands_generator/Data_intergration/qced_sumstat_list.txt /mnt/mfs/hgrcgrid/homes/hs3163/GIT/xqtl-pipeline/code/commands_generator/Data_intergration/TensorQTL/yml_list.txt\u001b[0m\n",
      "INFO: Checking \u001b[32msumstat_merge\u001b[0m: \n",
      "HINT: report:\n",
      "sos run  /home/hs3163/GIT/xqtl-pipeline/pipeline/summary_stats_merger.ipynb     \\\n",
      "      --sumstat-list /mnt/mfs/hgrcgrid/homes/hs3163/GIT/xqtl-pipeline/code/commands_generator/Data_intergration/qced_sumstat_list.txt    \\\n",
      "      --yml-list /mnt/mfs/hgrcgrid/homes/hs3163/GIT/xqtl-pipeline/code/commands_generator/Data_intergration/TensorQTL/yml_list.txt    \\\n",
      "      --cwd /mnt/mfs/hgrcgrid/homes/hs3163/GIT/xqtl-pipeline/code/commands_generator/Data_intergration   --mem 50G --walltime 48h \n",
      "\n",
      "sos run  /home/hs3163/GIT/xqtl-pipeline/pipeline/summary_stats_merger.ipynb    sumstat_to_vcf  \\\n",
      "   --sumstat-list /mnt/mfs/hgrcgrid/homes/hs3163/GIT/xqtl-pipeline/code/commands_generator/Data_intergration/qced_sumstat_list.txt    \\\n",
      "   --yml-list /mnt/mfs/hgrcgrid/homes/hs3163/GIT/xqtl-pipeline/code/commands_generator/Data_intergration/TensorQTL/yml_list.txt    \\\n",
      "   --cwd /mnt/mfs/hgrcgrid/homes/hs3163/GIT/xqtl-pipeline/code/commands_generator/Data_intergration   --mem 50G --walltime 48h \n",
      "\n",
      "\n",
      "\n",
      "INFO: \u001b[32msumstat_merge\u001b[0m is \u001b[32mcompleted\u001b[0m.\n",
      "INFO: Workflow sumstat_merge (ID=wb37e2362b1536bb9) is tested successfully with 16 completed steps.\n"
     ]
    }
   ],
   "source": [
    "sos run ~/GIT/xqtl-pipeline/pipeline/eQTL_analysis_commands.ipynb sumstat_merge  \\\n",
    "    --recipe  <(cat /mnt/mfs/statgen/snuc_pseudo_bulk//data/recipe_8tissue_new  | head -2)    \\\n",
    "    --genotype_list /mnt/mfs/statgen/snuc_pseudo_bulk/data/genotype_qced/plink_files_list.txt      \\\n",
    "    --annotation_gtf /mnt/mfs/statgen/snuc_pseudo_bulk/data/reference_data/genes.reformatted.gene.gtf     \\\n",
    "    --sample_participant_lookup /mnt/mfs/statgen/snuc_pseudo_bulk/data/reference_data/sampleSheetAfterQC.txt \\\n",
    "    --factor_option \"PEER\" --Association_option \"TensorQTL\"   -n"
   ]
  },
  {
   "cell_type": "code",
   "execution_count": null,
   "id": "moderate-samuel",
   "metadata": {
    "kernel": "SoS"
   },
   "outputs": [],
   "source": [
    "[global]\n",
    "## The aforementioned input recipe\n",
    "parameter: recipe = path\n",
    "## Overall wd, the file structure of analysis is wd/[steps]/[sub_dir for each steps]\n",
    "parameter:  cwd = path(\".\")\n",
    "## Diretory to the excutable\n",
    "parameter: exe_dir = path(\"~/GIT/xqtl-pipeline/\")\n",
    "parameter: container = '/mnt/mfs/statgen/containers/twas_latest.sif'\n",
    "parameter: container_base_bioinfo = '/mnt/mfs/statgen/containers/bioinfo.sif'\n",
    "parameter: container_apex = '/mnt/mfs/statgen/containers/apex.sif'\n",
    "parameter: container_PEER = '/mnt/mfs/statgen/containers/PEER.sif'\n",
    "parameter: container_TensorQTL = '/mnt/mfs/statgen/containers//TensorQTL.sif'\n",
    "parameter: container_rnaquant = '/mnt/mfs/statgen/containers/rna_quantification.sif'\n",
    "parameter: container_flashpca = '/mnt/mfs/statgen/containers/flashpcaR.sif'\n",
    "parameter: container_susie = '/mnt/mfs/statgen/containers/stephenslab.sif'\n",
    "parameter: sample_participant_lookup = path\n",
    "parameter: phenotype_id_type = \"gene_name\" \n",
    "parameter: yml = path(\"csg.yml\")\n",
    "import pandas as pd\n",
    "input_inv = pd.read_csv(recipe, sep = \"\\t\").to_dict(\"records\")\n",
    "import os\n",
    "parameter: jobs = 50 # Number of jobs that are submitted to the cluster\n",
    "parameter: queue = \"csg\" # The queue that jobs are submitted to\n",
    "submission = f'-J {jobs} -c {yml} -q {queue}'\n",
    "\n",
    "\n",
    "## Control of the workflow\n",
    "### Factor option (PEER vs BiCV)\n",
    "parameter: factor_option = \"PEER\"\n",
    "### Association scan option (APEX vs TensorQTL)\n",
    "parameter: Association_option = \"TensorQTL\""
   ]
  },
  {
   "cell_type": "markdown",
   "id": "objective-wrestling",
   "metadata": {
    "kernel": "SoS"
   },
   "source": [
    "## Data Preprocessing\n",
    "### Genotype Preprocessing (Once for all tissues)"
   ]
  },
  {
   "cell_type": "code",
   "execution_count": null,
   "id": "a933a470-2e1e-4be5-b6a4-7598479e67cf",
   "metadata": {
    "kernel": "SoS"
   },
   "outputs": [],
   "source": [
    "[dbSNP]\n",
    "parameter: dbSNP_vcf = path\n",
    "input: dbSNP_vcf\n",
    "output: f'{cwd:a}/{_input:bnn}.add_chr.variants.gz'\n",
    "report:  expand = \"$[ ]\", stderr = f'{_output}.stderr', stdout = f'{_output}.stdout'\n",
    "        sos run $[exe_dir]/pipeline//VCF_QC.ipynb dbsnp_annotate \\\n",
    "            --genoFile $[_input] \\\n",
    "            --cwd $[_output:d] \\\n",
    "            --container $[container_base_bioinfo]  $[submission if yml.is_file() else \"\" ]"
   ]
  },
  {
   "cell_type": "code",
   "execution_count": null,
   "id": "metallic-circulation",
   "metadata": {
    "kernel": "SoS"
   },
   "outputs": [],
   "source": [
    "[VCF_add_chr]\n",
    "parameter: genoFile = path\n",
    "input: genoFile\n",
    "output: f'{cwd:a}/{_input:bnn}.add_chr.vcf.gz'\n",
    "report:  expand = \"$[ ]\", stderr = f'{_output}.stderr', stdout = f'{_output}.stdout'\n",
    "        sos run $[exe_dir]/pipeline//VCF_QC.ipynb rename_chrs \\\n",
    "            --genoFile $[_input] \\\n",
    "            --cwd $[_output:d] \\\n",
    "            --container $[container_base_bioinfo] \\\n",
    "            --walltime \"24h\" $[submission if yml.is_file() else \"\" ]"
   ]
  },
  {
   "cell_type": "code",
   "execution_count": null,
   "id": "68ee4fb6-5aed-4f05-8efd-1496110c2221",
   "metadata": {
    "kernel": "SoS"
   },
   "outputs": [],
   "source": [
    "[VCF_QC]\n",
    "parameter: ref_fasta = path\n",
    "input: output_from(\"VCF_add_chr\"), output_from(\"dbSNP\")\n",
    "output: f'{_input:nn}.leftnorm.filtered.bed'\n",
    "report:  expand = \"$[ ]\", stderr = f'{_output}.stderr', stdout = f'{_output}.stdout'\n",
    "        sos run $[exe_dir]//pipeline/VCF_QC.ipynb rename_chrs \\\n",
    "            --genoFile $[_input[0]] \\\n",
    "            --dbsnp-variants $[_input[1]]\n",
    "            --reference-genome $[ref_fasta] \\ \n",
    "            --cwd $[_output:d] \\\n",
    "            --container $[container_base_bioinfo] \\\n",
    "            --walltime \"24h\" $[submission if yml.is_file() else \"\" ]"
   ]
  },
  {
   "cell_type": "code",
   "execution_count": null,
   "id": "8cb9cf57-fcad-4168-b2ae-35d41068d553",
   "metadata": {
    "kernel": "SoS"
   },
   "outputs": [],
   "source": [
    "[plink_QC]\n",
    "# minimum MAF filter to use. 0 means do not apply this filter.\n",
    "parameter: maf_filter = 0.0\n",
    "# maximum MAF filter to use. 0 means do not apply this filter.\n",
    "parameter: maf_max_filter = 0.0\n",
    "# Maximum missingess per-variant\n",
    "parameter: geno_filter = 0.1\n",
    "# Maximum missingness per-sample\n",
    "parameter: mind_filter = 0.1\n",
    "# HWE filter \n",
    "parameter: hwe_filter = 1e-06\n",
    "input: output_from(\"VCF_QC\")\n",
    "output: f'{_input:n}.filtered.bed'\n",
    "report:  expand = \"$[ ]\", stderr = f'{_output}.stderr', stdout = f'{_output}.stdout'\n",
    "        sos run $[exe_dir]//pipeline/GWAS_QC.ipynb qc_no_prune \\\n",
    "            --cwd $[_output:d] \\\n",
    "            --genoFile $[_input] \\\n",
    "            --maf-filter $[maf_filter] \\\n",
    "            --geno-filter $[geno_filter] \\\n",
    "            --mind-filter $[mind_filter] \\\n",
    "            --hwe-filter $[hwe_filter]   \\\n",
    "            --mem 40G  \\\n",
    "            --container $[container_base_bioinfo]  $[submission if yml.is_file() else \"\" ]"
   ]
  },
  {
   "cell_type": "code",
   "execution_count": null,
   "id": "b166a329-38f2-4da4-84cd-c4e0a51c0059",
   "metadata": {
    "kernel": "SoS"
   },
   "outputs": [],
   "source": [
    "[plink_per_chrom]\n",
    "input: output_from(\"plink_QC\")\n",
    "output: f'{cwd:a}/{_input:bn}.plink_files_list.txt'\n",
    "report:  expand = \"$[ ]\", stderr = f'{_output}.stderr', stdout = f'{_output}.stdout'\n",
    "        for i in {1..22} ; do echo chr$i; done > vcf_chr_list\n",
    "        sos run $[exe_dir]//pipeline/genotype_formatting.ipynb plink_by_chrom \\\n",
    "            --genoFile $[_input] \\\n",
    "            --cwd $[_output:d] \\\n",
    "            --chrom  `cat vcf_chr_list` \\\n",
    "            --container $[container_base_bioinfo]  $[submission if yml.is_file() else \"\" ]\n",
    "        rm vcf_chr_list"
   ]
  },
  {
   "cell_type": "code",
   "execution_count": null,
   "id": "59112fda-4333-4210-8481-0eb11fd32d9d",
   "metadata": {
    "kernel": "SoS"
   },
   "outputs": [],
   "source": [
    "[plink_to_vcf]\n",
    "parameter: genotype_list = path\n",
    "input: genotype_list\n",
    "output: f'{cwd:a}/{_input:bnn}.vcf_files_list.txt'\n",
    "report:  expand = \"$[ ]\", stderr = f'{_output}.stderr', stdout = f'{_output}.stdout'\n",
    "        sos run $[exe_dir]//pipeline/genotype_formatting.ipynb plink_to_vcf \\\n",
    "            --genoFile $[_input] \\\n",
    "            --cwd $[_output:d] \\\n",
    "            --container $[container_base_bioinfo]  $[submission if yml.is_file() else \"\" ]"
   ]
  },
  {
   "cell_type": "code",
   "execution_count": null,
   "id": "e0c15b82-ca9e-4095-a634-0bba1eb85194",
   "metadata": {
    "kernel": "SoS",
    "tags": []
   },
   "outputs": [],
   "source": [
    "[plink_per_gene]\n",
    "# The plink genotype file\n",
    "parameter: genoFile = path\n",
    "input: output_from(\"region_list_concat\"),genoFile\n",
    "output: f'{cwd:a}/{_input[1]:bn}.plink_files_list.txt'\n",
    "report:  expand = \"$[ ]\", stderr = f'{_output}.stderr', stdout = f'{_output}.stdout'\n",
    "        sos run $[exe_dir]/pipeline//genotype_formatting.ipynb plink_by_gene \\\n",
    "            --genoFile $[_input[1]] \\\n",
    "            --cwd $[_output:d] \\\n",
    "            --region_list  $[_input[0]] \\\n",
    "            --container $[container_base_bioinfo]  $[submission if yml.is_file() else \"\" ]"
   ]
  },
  {
   "cell_type": "code",
   "execution_count": null,
   "id": "e1666b50-5e02-4559-b8c0-ec48774280dd",
   "metadata": {
    "kernel": "SoS"
   },
   "outputs": [],
   "source": [
    "#[GRM]\n",
    "parameter: genotype_list = path\n",
    "input: genotype_list\n",
    "import pandas as pd\n",
    "genotype = path(pd.read_csv(\"/mnt/mfs/statgen/snuc_pseudo_bulk/data/genotype_qced/plink_files_list.txt\",\"\\t\").dir[0])\n",
    "output: f'{cwd}/data_preprocessing/genotype/grm/{genotype:bnn}.loco_grm_list.txt'\n",
    "report:  expand = \"$[ ]\", stderr = f'{_output[0]}.stderr', stdout = f'{_output[0]}.stdout'\n",
    "     sos run $[exe_dir]/pipeline/GRM.ipynb grm \\\n",
    "        --genoFile $[_input] \\\n",
    "        --container $[container_base_bioinfo] \\\n",
    "        --cwd $[_output:d] $[submission if yml.is_file() else \"\" ] --mem 70G"
   ]
  },
  {
   "cell_type": "markdown",
   "id": "9bee5311-3b75-4e5a-9269-716cbfcd901c",
   "metadata": {
    "kernel": "SoS"
   },
   "source": [
    "### Molecular Phenotype Processing"
   ]
  },
  {
   "cell_type": "code",
   "execution_count": null,
   "id": "indie-japanese",
   "metadata": {
    "kernel": "SoS"
   },
   "outputs": [],
   "source": [
    "[annotation]\n",
    "## Must be ran with internet connection\n",
    "import os\n",
    "parameter: annotation_gtf = path\n",
    "input: for_each = \"input_inv\"\n",
    "output: f'{cwd:a}/data_preprocessing/{_input_inv[\"Theme\"]}/phenotype_data/{path(_input_inv[\"molecular_pheno\"]):bn}.bed.gz'\n",
    "report:  expand = \"$[ ]\", stderr = f'{_output}.stderr', stdout = f'{_output}.stdout'\n",
    "  sos run $[exe_dir]/pipeline/gene_annotation.ipynb annotate_coord \\\n",
    "    --cwd $[_output:d] \\\n",
    "    --phenoFile $[_input_inv[\"molecular_pheno\"]] \\\n",
    "    --annotation-gtf $[annotation_gtf] \\\n",
    "    --sample-participant-lookup $[sample_participant_lookup] \\\n",
    "    --container $[container_rnaquant] \\\n",
    "    --phenotype-id-type $[phenotype_id_type] $[submission if yml.is_file() else \"\" ]"
   ]
  },
  {
   "cell_type": "code",
   "execution_count": null,
   "id": "chief-blame",
   "metadata": {
    "kernel": "SoS"
   },
   "outputs": [],
   "source": [
    "[region_list_generation]\n",
    "parameter: annotation_gtf = path\n",
    "input: output_from(\"annotation\"), group_with = \"input_inv\"\n",
    "output: pheno_mod = f'{cwd:a}/data_preprocessing/{_input_inv[\"Theme\"]}/phenotype_data/{_input:bnn}.region_list'\n",
    "report:  expand = \"$[ ]\", stderr = f'{_output[0]}.stderr', stdout = f'{_output[0]}.stdout'\n",
    "    sos run $[exe_dir]/pipeline/gene_annotation.ipynb region_list_generation \\\n",
    "        --cwd $[_output:d]  \\\n",
    "        --phenoFile $[_input]\\\n",
    "        --annotation-gtf $[annotation_gtf] \\\n",
    "        --sample-participant-lookup $[sample_participant_lookup] \\\n",
    "        --container $[container_rnaquant] \\\n",
    "        --phenotype-id-type $[phenotype_id_type] $[submission if yml.is_file() else \"\" ]"
   ]
  },
  {
   "cell_type": "code",
   "execution_count": null,
   "id": "580fc4bd-fb07-4c8f-8136-e426959e2da0",
   "metadata": {
    "kernel": "SoS"
   },
   "outputs": [],
   "source": [
    "[region_list_concat]\n",
    "input: output_from(\"region_list_generation\"), group_by = \"all\"\n",
    "output: f'{cwd:a}/data_preprocessing/phenotype_data/concat.region_list'\n",
    "report:  expand = \"$[ ]\", stderr = f'{_output[0]}.stderr', stdout = f'{_output[0]}.stdout'\n",
    "         cat $[_input:a] | sort | uniq > $[_output:a] "
   ]
  },
  {
   "cell_type": "code",
   "execution_count": null,
   "id": "c71dcb67-f366-41a1-b0ca-09bd4d293601",
   "metadata": {
    "kernel": "SoS"
   },
   "outputs": [],
   "source": [
    "[phenotype_partition_by_chrom]\n",
    "input: output_from(\"annotation\"),output_from(\"region_list_generation\"), group_with = \"input_inv\"\n",
    "output: per_chrom_pheno_list = f'{cwd:a}/data_preprocessing/{_input_inv[\"Theme\"]}/phenotype_data/{_input[0]:bn}.processed_phenotype.per_chrom.recipe'        \n",
    "report:  expand = \"$[ ]\", stderr = f'{_output[0]}.stderr', stdout = f'{_output[0]}.stdout'\n",
    "    sos run $[exe_dir]/pipeline/phenotype_formatting.ipynb partition_by_chrom \\\n",
    "        --cwd $[_output:d]  \\\n",
    "        --phenoFile $[_input[0]:a] \\\n",
    "        --region-list $[_input[1]:a] \\\n",
    "        --container $[container_rnaquant] \\\n",
    "        --mem 4G      $[submission if yml.is_file() else \"\" ]"
   ]
  },
  {
   "cell_type": "markdown",
   "id": "portuguese-marking",
   "metadata": {
    "kernel": "SoS"
   },
   "source": [
    "### Genotype Processing\n",
    "Since genotype is shared among the eight tissue, the QC of whole genome file is not needed. Only pca needed to be run again."
   ]
  },
  {
   "cell_type": "code",
   "execution_count": null,
   "id": "79acb9fc-b803-4939-80c9-32cec7308170",
   "metadata": {
    "kernel": "SoS"
   },
   "outputs": [],
   "source": [
    "[sample_match]\n",
    "input: for_each = \"input_inv\"\n",
    "output: f'{cwd:a}/data_preprocessing/{_input_inv[\"Theme\"]}/{sample_participant_lookup:bn}.filtered.txt',\n",
    "        geno = f'{cwd:a}/data_preprocessing/{_input_inv[\"Theme\"]}/{sample_participant_lookup:bn}.filtered_geno.txt'\n",
    "report:  expand = \"$[ ]\", stderr = f'{_output[0]}.stderr', stdout = f'{_output[0]}.stdout'\n",
    "    sos run $[exe_dir]/pipeline/sample_matcher.ipynb filtered_sample_list \\\n",
    "        --cwd $[_output[0]:d]  \\\n",
    "        --phenoFile $[_input_inv[\"molecular_pheno\"]]  \\\n",
    "        --genoFile $[path(_input_inv[\"genotype_file\"]):n].fam  \\\n",
    "        --sample-participant-lookup $[sample_participant_lookup] \\\n",
    "        --container $[container_rnaquant] \\\n",
    "        --translated_phenoFile $[submission if yml.is_file() else \"\" ]"
   ]
  },
  {
   "cell_type": "code",
   "execution_count": null,
   "id": "64df9826-b0b5-4c67-b52f-6f4e96a318cb",
   "metadata": {
    "kernel": "SoS"
   },
   "outputs": [],
   "source": [
    "[king]\n",
    "input:output_from(\"sample_match\")[\"geno\"], group_with = \"input_inv\"\n",
    "output: related = f'{cwd:a}/data_preprocessing/{_input_inv[\"Theme\"]}/genotype_data/{path(_input_inv[\"genotype_file\"]):bn}.{_input_inv[\"Theme\"]}.related.bed',\n",
    "        unrelated = f'{cwd:a}/data_preprocessing/{_input_inv[\"Theme\"]}/genotype_data/{path(_input_inv[\"genotype_file\"]):bn}.{_input_inv[\"Theme\"]}.unrelated.bed'\n",
    "report:  expand = \"$[ ]\", stderr = f'{_output[0]}.stderr', stdout = f'{_output[0]}.stdout'\n",
    " sos run $[exe_dir]/pipeline/GWAS_QC.ipynb king \\\n",
    "    --cwd $[_output[0]:d] \\\n",
    "    --genoFile $[_input_inv[\"genotype_file\"]] \\\n",
    "    --name $[_input_inv[\"Theme\"]] \\\n",
    "    --keep-samples $[_input] \\\n",
    "    --container $[container_base_bioinfo] \\\n",
    "    --walltime 48h  $[submission if yml.is_file() else \"\" ]"
   ]
  },
  {
   "cell_type": "code",
   "execution_count": null,
   "id": "bb56d62f-a560-4802-9fd8-ded3ada60a93",
   "metadata": {
    "kernel": "SoS"
   },
   "outputs": [],
   "source": [
    "[unrelated_QC]\n",
    "input: output_from(\"king\")[\"unrelated\"]\n",
    "output: unrelated_bed = f'{_input:n}.filtered.prune.bed', \n",
    "        prune = f'{_input:n}.filtered.prune.in'\n",
    "report:  expand = \"$[ ]\", stderr = f'{_output[0]}.stderr', stdout = f'{_output[0]}.stdout'\n",
    " sos run $[exe_dir]/pipeline/GWAS_QC.ipynb qc \\\n",
    "    --cwd $[_output[0]:d] \\\n",
    "    --genoFile $[_input] \\\n",
    "    --exclude-variants /mnt/mfs/statgen/snuc_pseudo_bulk/Ast/genotype/dupe_snp_to_exclude \\\n",
    "    --maf-filter 0.05 \\\n",
    "    --container $[container_base_bioinfo] \\\n",
    "    --mem 40G  $[submission if yml.is_file() else \"\" ] "
   ]
  },
  {
   "cell_type": "code",
   "execution_count": null,
   "id": "6109d434-a4f0-4543-b912-1f2e64b0c54a",
   "metadata": {
    "kernel": "SoS"
   },
   "outputs": [],
   "source": [
    "[related_QC]\n",
    "input: output_from(\"king\")[\"related\"],output_from(\"unrelated_QC\")[\"prune\"]\n",
    "output: f'{_input[0]:n}.filtered.extracted.bed'\n",
    "report:  expand = \"$[ ]\", stderr = f'{_output[0]}.stderr', stdout = f'{_output[0]}.stdout'\n",
    " sos run $[exe_dir]/pipeline/GWAS_QC.ipynb qc_no_prune \\\n",
    "    --cwd $[_output[0]:d] \\\n",
    "    --genoFile $[_input[0]] \\\n",
    "    --exclude-variants /mnt/mfs/statgen/snuc_pseudo_bulk/Ast/genotype/dupe_snp_to_exclude \\\n",
    "    --maf-filter 0 \\\n",
    "    --geno-filter 0 \\\n",
    "    --mind-filter 0.1 \\\n",
    "    --hwe-filter 0 \\\n",
    "    --keep-variants $[_input[1]]  \\\n",
    "    --container $[container_base_bioinfo]  \\\n",
    "    --mem 40G   $[submission if yml.is_file() else \"\" ]"
   ]
  },
  {
   "cell_type": "markdown",
   "id": "noted-opening",
   "metadata": {
    "kernel": "SoS"
   },
   "source": [
    "## Factor analysis"
   ]
  },
  {
   "cell_type": "code",
   "execution_count": null,
   "id": "01fb7095-247e-44eb-aaa3-0f050c358b73",
   "metadata": {
    "kernel": "SoS"
   },
   "outputs": [],
   "source": [
    "[pca]\n",
    "input: output_from(\"unrelated_QC\")[\"unrelated_bed\"],group_with = \"input_inv\"\n",
    "output: f'{cwd}/data_preprocessing/{_input_inv[\"Theme\"]}/pca/{_input:bn}.pca.rds',\n",
    "        f'{cwd}/data_preprocessing/{_input_inv[\"Theme\"]}/pca/{_input:bn}.pca.scree.txt'\n",
    "report:  expand = \"$[ ]\", stderr = f'{_output[0]}.stderr', stdout = f'{_output[0]}.stdout'\n",
    "     sos run $[exe_dir]/pipeline/PCA.ipynb flashpca \\\n",
    "        --cwd $[_output:d] \\\n",
    "        --genoFile $[_input] \\\n",
    "        --container $[container_flashpca]  $[submission if yml.is_file() else \"\" ]"
   ]
  },
  {
   "cell_type": "code",
   "execution_count": null,
   "id": "bd276535-2566-4b17-b27d-27688e8c6ef7",
   "metadata": {
    "kernel": "SoS"
   },
   "outputs": [],
   "source": [
    "[projected_sample]\n",
    "# The percentage of PVE explained\n",
    "parameter: PVE_treshold = 0.7\n",
    "input: output_from(\"related_QC\"),output_from(\"pca\"), group_with = \"input_inv\"\n",
    "output: f'{cwd}/data_preprocessing/{_input_inv[\"Theme\"]}/pca/{_input[0]:bn}.pca.projected.rds',\n",
    "        f'{cwd}/data_preprocessing/{_input_inv[\"Theme\"]}/pca/{_input[0]:bn}.pca.projected.scree.txt'\n",
    "report:  expand = \"$[ ]\", stderr = f'{_output[0]}.stderr', stdout = f'{_output[0]}.stdout'\n",
    "    sos run $[exe_dir]/pipeline/PCA.ipynb project_samples \\\n",
    "            --cwd $[_output:d] \\\n",
    "            --genoFile $[_input[0]] \\\n",
    "            --pca-model  $[_input[1]] \\\n",
    "            --maha-k `awk '$3 < $[PVE_treshold]' $[_input[2]] | tail -1 | cut -f 1  ` \\\n",
    "            --container $[container_flashpca]  $[submission if yml.is_file() else \"\" ]"
   ]
  },
  {
   "cell_type": "code",
   "execution_count": null,
   "id": "3589ea80-e69f-4d3b-8cb7-9ccf12f3af54",
   "metadata": {
    "kernel": "SoS"
   },
   "outputs": [],
   "source": [
    "[merge_pca_covariate]\n",
    "# The percentage of PVE explained\n",
    "parameter: PVE_treshold = 0.7\n",
    "input: output_from(\"projected_sample\"),group_with = \"input_inv\"\n",
    "output: f'{cwd}/data_preprocessing/{_input_inv[\"Theme\"]}/covariates/{path(_input_inv[\"covariate_file\"]):bn}.pca.cov.gz'\n",
    "report:  expand = \"$[ ]\", stderr = f'{_output[0]}.stderr', stdout = f'{_output[0]}.stdout'\n",
    "    sos run $[exe_dir]/pipeline/covariate_formatting.ipynb merge_pca_covariate \\\n",
    "            --cwd $[_output:d] \\\n",
    "            --pcaFile $[_input:a] \\\n",
    "            --covFile  $[path(_input_inv[\"covariate_file\"])] \\\n",
    "            --tol_cov 0.3  \\\n",
    "            --k `awk '$3 < $[PVE_treshold]' $[_input[1]] | tail -1 | cut -f 1 `\n",
    "            --container $[container_base_bioinfo] $[submission if yml.is_file() else \"\" ]"
   ]
  },
  {
   "cell_type": "code",
   "execution_count": null,
   "id": "c0e45bf9-eb9a-45b6-b3b5-d275f1821f03",
   "metadata": {
    "kernel": "SoS"
   },
   "outputs": [],
   "source": [
    "[resid_exp]\n",
    "input: output_from(\"merge_pca_covariate\"),output_from(\"annotation\"),group_with = \"input_inv\"\n",
    "output: f'{cwd}/data_preprocessing/{_input_inv[\"Theme\"]}/phenotype/{_input[1]:bnn}.resid.bed.gz'\n",
    "report:  expand = \"$[ ]\", stderr = f'{_output[0]}.stderr', stdout = f'{_output[0]}.stdout'\n",
    "    sos run $[exe_dir]/pipeline/covariate_formatting.ipynb Residual_Y \\\n",
    "            --cwd $[_output:d] \\\n",
    "            --phenoFile $[_input[1]:a] \\\n",
    "            --covFile  $[_input[0]:a] \\\n",
    "            --container $[container_base_bioinfo] $[submission if yml.is_file() else \"\" ]"
   ]
  },
  {
   "cell_type": "code",
   "execution_count": null,
   "id": "stretch-indianapolis",
   "metadata": {
    "kernel": "SoS"
   },
   "outputs": [],
   "source": [
    "[factor]\n",
    "input: output_from(\"resid_exp\"),group_with = \"input_inv\"\n",
    "output: f'{cwd}/data_preprocessing/{_input_inv[\"Theme\"]}/covariates/{_input[0]:bnn}.{factor_option}.cov.gz'\n",
    "report:  expand = \"$[ ]\", stderr = f'{_output}.stderr', stdout = f'{_output}.stdout'\n",
    "         sos run $[exe_dir]/pipeline/$[factor_option]_factor.ipynb $[factor_option] \\\n",
    "            --cwd $[_output:d] \\\n",
    "            --phenoFile $[_input[0]:a]  \\\n",
    "            --container $[container_apex if factor_option is \"BiCV\" else container_PEER]  \\\n",
    "            --walltime 24h \\\n",
    "            --numThreads 8 \\\n",
    "            --iteration 1000 \\\n",
    "            --N 60  $[submission if yml.is_file() else \"\" ]"
   ]
  },
  {
   "cell_type": "code",
   "execution_count": null,
   "id": "74c3c4f3-3c11-4f0b-98b1-c9f4ee8b0999",
   "metadata": {
    "kernel": "SoS"
   },
   "outputs": [],
   "source": []
  },
  {
   "cell_type": "code",
   "execution_count": null,
   "id": "f0d3dee6-e6ed-44cb-9dbc-b81edbbdb1a0",
   "metadata": {
    "kernel": "SoS"
   },
   "outputs": [],
   "source": []
  },
  {
   "cell_type": "code",
   "execution_count": null,
   "id": "dcfbba48-5d7b-4217-93cc-8d91943ad45d",
   "metadata": {
    "kernel": "SoS"
   },
   "outputs": [],
   "source": [
    "[merge_factor_covariate]\n",
    "# The percentage of PVE explained\n",
    "parameter: PVE_treshold = 0.7\n",
    "input: output_from(\"factor\"),output_from(\"merge_pca_covariate\"),group_with = \"input_inv\"\n",
    "output: f'{cwd}/data_preprocessing/{_input_inv[\"Theme\"]}/covariates/{path(_input_inv[\"covariate_file\"]):bn}.pca.{factor_option}.cov.gz'\n",
    "report:  expand = \"$[ ]\", stderr = f'{_output}.stderr', stdout = f'{_output}.stdout'\n",
    "    sos run $[exe_dir]/pipeline/covariate_formatting.ipynb merge_factor_covariate \\\n",
    "            --cwd $[_output:d] \\\n",
    "            --factorFile $[_input[0]:a] \\\n",
    "            --covFile  $[_input[1]:a] \\\n",
    "            --container $[container_base_bioinfo] $[submission if yml.is_file() else \"\" ]"
   ]
  },
  {
   "cell_type": "markdown",
   "id": "cee34865-5d82-4c29-aa61-78d3f9051dbc",
   "metadata": {
    "kernel": "SoS"
   },
   "source": [
    "## Association scan"
   ]
  },
  {
   "cell_type": "code",
   "execution_count": null,
   "id": "c457e6af-dec0-475e-aafc-4db2d43c1945",
   "metadata": {
    "kernel": "SoS"
   },
   "outputs": [],
   "source": [
    "[TensorQTL]\n",
    "parameter: genotype_list = path\n",
    "input: genotype_list, output_from(\"phenotype_partition_by_chrom\"),output_from(\"merge_factor_covariate\"),group_with = \"input_inv\"\n",
    "output: f'{cwd:a}/Association_scan/{_input_inv[\"Theme\"]}/TensorQTL/TensorQTL_recipe.tsv'\n",
    "report:  expand = \"$[ ]\", stderr = f'{_output[0]}.stderr', stdout = f'{_output[0]}.stdout'\n",
    "    sos run $[exe_dir]/pipeline/TensorQTL.ipynb TensorQTL_cis \\\n",
    "        --genotype_file_list $[_input[0]]   \\\n",
    "        --molecular_pheno_list $[_input[1]] \\\n",
    "        --covariate $[_input[2]]    \\\n",
    "        --cwd $[_output:d]  \\\n",
    "        --container $[container_TensorQTL] $[submission if yml.is_file() else \"\" ]"
   ]
  },
  {
   "cell_type": "code",
   "execution_count": null,
   "id": "ed2359b0-c9f2-4100-a26a-53820b8d4e12",
   "metadata": {
    "kernel": "SoS"
   },
   "outputs": [],
   "source": [
    "[APEX]\n",
    "parameter: genotype_list = path\n",
    "input: output_from(\"plink_to_vcf\"), output_from(\"phenotype_partition_by_chrom\"),output_from(\"merge_factor_covariate\"),group_with = \"input_inv\"\n",
    "output: f'{cwd:a}/Association_scan/{_input_inv[\"Theme\"]}/APEX/APEX_recipe.tsv'\n",
    "report:  expand = \"$[ ]\", stderr = f'{_output[0]}.stderr', stdout = f'{_output[0]}.stdout'\n",
    "    sos run $[exe_dir]/pipeline/APEX.ipynb APEX_cis \\\n",
    "        --genotype_file_list $[_input[0]]   \\\n",
    "        --molecular_pheno_list $[_input[1]] \\\n",
    "        --covariate $[_input[2]]    \\\n",
    "        --cwd $[_output:d]  \\\n",
    "        --container $[container_apex] $[submission if yml.is_file() else \"\" ]"
   ]
  },
  {
   "cell_type": "markdown",
   "id": "49c0392f-5b59-4fa7-a9af-cee52847feed",
   "metadata": {
    "kernel": "SoS"
   },
   "source": [
    "## SuSiE\n"
   ]
  },
  {
   "cell_type": "code",
   "execution_count": null,
   "id": "e28ea10f-d819-4d1e-81f3-09ecbe4a94b9",
   "metadata": {
    "kernel": "SoS"
   },
   "outputs": [],
   "source": []
  },
  {
   "cell_type": "code",
   "execution_count": null,
   "id": "4c000a36-03f6-48c6-ab8f-0feaf85f34f0",
   "metadata": {
    "kernel": "SoS"
   },
   "outputs": [],
   "source": [
    "[UniSuSiE]\n",
    "input: output_from(\"plink_per_gene\"), output_from(\"annotation\"),output_from(\"factor\"), output_from(\"region_list_concat\"), group_by = \"all\"\n",
    "output: f'{cwd:a}/Fine_mapping/UniSuSiE/UniSuSiE_recipe.tsv'\n",
    "report:  expand = \"$[ ]\"\n",
    "    sos run $[exe_dir]/pipeline/SuSiE.ipynb uni_susie \\\n",
    "        --genoFile $[_input[0]]   \\\n",
    "        --phenoFile $[\" \".join([str(x) for x in _input[1:len(input_inv)+1]])] \\\n",
    "        --covFile $[\" \".join([str(x) for x in  _input[len(input_inv)+1:len(input_inv)*2+1]])]  \\\n",
    "        --cwd $[_output:d]  \\\n",
    "        --tissues $[\" \".join([x[\"Theme\"] for x in input_inv])] \\\n",
    "        --region-list $[_input[3]] \\\n",
    "        --container $[container_susie] $[submission if yml.is_file() else \"\" ]"
   ]
  },
  {
   "cell_type": "code",
   "execution_count": null,
   "id": "61a68fde-6f52-4abf-bd1e-a053874fe6a3",
   "metadata": {
    "kernel": "SoS"
   },
   "outputs": [],
   "source": []
  },
  {
   "cell_type": "markdown",
   "id": "43001652-ca24-4e9b-b124-14af22796cbe",
   "metadata": {
    "kernel": "SoS"
   },
   "source": [
    "## Sumstat Merger"
   ]
  },
  {
   "cell_type": "code",
   "execution_count": null,
   "id": "f43d8716-e235-4834-ab86-66c04c0bcad2",
   "metadata": {
    "kernel": "SoS"
   },
   "outputs": [],
   "source": [
    "[yml_generation]\n",
    "input: output_from(Association_option)\n",
    "output: f'{cwd:a}/Data_intergration/qced_sumstat_list.txt',f'{cwd:a}/Data_intergration/{Association_option}/yml_list.txt'\n",
    "report:  expand = \"$[ ]\"\n",
    "        sos run $[exe_dir]/pipeline/yml_generator.ipynb yml_list \\\n",
    "            --sumstat-list $[_input] \\\n",
    "            --cwd  $[_output[0]:d] --name $[\" \".join([str(x).split(\"/\")[-3] for x in _input])] \n",
    "\n",
    "         "
   ]
  },
  {
   "cell_type": "code",
   "execution_count": null,
   "id": "12910c2b-22bf-4d55-a005-27838d8d90e6",
   "metadata": {
    "kernel": "SoS"
   },
   "outputs": [],
   "source": [
    "[sumstat_merge]\n",
    "input: output_from(\"yml_generation\")\n",
    "report:  expand = \"$[ ]\"\n",
    "      sos run  $[exe_dir]/pipeline/summary_stats_merger.ipynb     \\\n",
    "            --sumstat-list $[_input[0]]    \\\n",
    "            --yml-list $[_input[1]]    \\\n",
    "            --cwd $[_input[0]:d]  $[submission if yml.is_file() else \"\" ] --mem 50G --walltime 48h \n",
    "          \n",
    "      sos run  $[exe_dir]/pipeline/summary_stats_merger.ipynb    sumstat_to_vcf  \\\n",
    "         --sumstat-list $[_input[0]]    \\\n",
    "         --yml-list $[_input[1]]    \\\n",
    "         --cwd $[_input[0]:d]  $[submission if yml.is_file() else \"\" ] --mem 50G --walltime 48h \n",
    "      "
   ]
  }
 ],
 "metadata": {
  "kernelspec": {
   "display_name": "Bash",
   "language": "bash",
   "name": "bash"
  },
  "language_info": {
   "codemirror_mode": "shell",
   "file_extension": ".sh",
   "mimetype": "text/x-sh",
   "name": "bash"
  },
  "sos": {
   "kernels": [
    [
     "Bash",
     "bash",
     "Bash",
     "#E6EEFF",
     ""
    ],
    [
     "SoS",
     "sos",
     "",
     "",
     "sos"
    ]
   ],
   "version": "0.22.6"
  }
 },
 "nbformat": 4,
 "nbformat_minor": 5
}
