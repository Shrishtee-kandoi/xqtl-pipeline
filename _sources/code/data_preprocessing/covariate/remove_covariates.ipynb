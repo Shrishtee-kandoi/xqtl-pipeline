{
 "cells": [
  {
   "cell_type": "markdown",
   "id": "focal-formula",
   "metadata": {
    "kernel": "SoS",
    "tags": []
   },
   "source": [
    "# Computing covariate residuals\n",
    "This workflow calculate the adjusted molecular phenotype data to adjust for additional covariates (i.e. kingship)\n",
    "\n",
    "## Rational for covariate correction:\n",
    "\n",
    "When we are doing xQtl analysis, typically, we performe variaous adjustment on both genotype matrix `X` as well as molecular phenotype matrix `Y`. This adjusting factors include sex, age, platform, etc. The overall goal of various adjustment is to rule out potential confounders in the analysis. \n",
    "\n",
    "However, when we are doing analysis, we may not always using the adjusted version of input data. Since `X` and `Y` are treated differerntly by differernt softwares, the corrected factors may not be identical. Specially, the correction in molecular phenotype matrix `Y` may be lesser that the genotype matrix `X`. This workflow implement additional covariate adjustment with regard to `Y`\n",
    "\n",
    "\n",
    "## Method:\n",
    "\n",
    "We regress out covariate `Z` out of `Y` by following methods: \n",
    "\n",
    "* Step 1: Regress `Y ~ Z`, get the estimated `βz`\n",
    "\n",
    "* Step 2: Calculate `Y' = Y -  Z %*% βz` \n",
    "\n",
    "Since the output of step 2 is actually the residual of `Y` when regression `Z` out of `Y` , so our method is actually calculating the covariate residuals. \n",
    "\n",
    "Computationanlly, estimating `βz` needs `Z` to be full rank, result in `Z^T %*% Z` to be invertible. If `Z` is in low rank, we output an error.\n",
    "\n",
    "\n",
    "## Input:\n",
    "\n",
    "Required inputs are molecular phenotype data and covariate data. We use same input format as [PEER](https://cumc.github.io/xqtl-pipeline/pipeline/data_preprocessing/covariate/PEER_factor.html) and [APEX](https://cumc.github.io/xqtl-pipeline/pipeline/data_preprocessing/covariate/BiCV_factor.html) workflow. Please refer to their homepages for detail.\n",
    "\n",
    "Optional input `--name` is the analysis name you want to include in the output file.\n",
    "\n",
    "In this workflow, we do not need the samples in molecular phenotype data to be identical with covariate data. **Only same sample will be extracted and calculated**. This step using exact matching, so `Sample_1` and `sample_1` are **not treated as same**.\n",
    "\n",
    "## Output\n",
    "\n",
    "Output is a single file `{name}.mol_phe.resid.bed` with same format as the input molecular phenotype matrix. After that, the molecular phenotype data will be compressed by `bgzip` and a indexing file will be created. \n",
    "\n",
    "## Useage: \n",
    "```sos\n",
    "    sos run remove_covariates.ipynb Residual_Y \\\n",
    "        --molecular_pheno_whole ... \\\n",
    "        --factor ... \\\n",
    "        ...\n",
    "```\n",
    "\n",
    "## Setup and global parameters"
   ]
  },
  {
   "cell_type": "code",
   "execution_count": 1,
   "id": "fossil-chain",
   "metadata": {
    "kernel": "SoS"
   },
   "outputs": [],
   "source": [
    "[global]\n",
    "import os\n",
    "# Work directory & output directory\n",
    "parameter: wd = \".\"\n",
    "# The filename name for output data\n",
    "# parameter: container = 'gaow/twas'\n",
    "# name for the analysis output\n",
    "parameter: name = 'ROSMAP'\n",
    "# For cluster jobs, number commands to run per job\n",
    "parameter: job_size = 1\n",
    "# Wall clock time expected\n",
    "parameter: walltime = \"5h\"\n",
    "# Memory expected\n",
    "parameter: mem = \"16G\"\n",
    "# Number of threads\n",
    "parameter: numThreads = 20\n",
    "parameter: container = str"
   ]
  },
  {
   "cell_type": "code",
   "execution_count": 6,
   "id": "united-replacement",
   "metadata": {
    "kernel": "Bash",
    "tags": []
   },
   "outputs": [
    {
     "name": "stdout",
     "output_type": "stream",
     "text": [
      "usage: sos run remove_covariates.ipynb\n",
      "               [workflow_name | -t targets] [options] [workflow_options]\n",
      "  workflow_name:        Single or combined workflows defined in this script\n",
      "  targets:              One or more targets to generate\n",
      "  options:              Single-hyphen sos parameters (see \"sos run -h\" for details)\n",
      "  workflow_options:     Double-hyphen workflow-specific parameters\n",
      "\n",
      "Workflows:\n",
      "  Residual_Y\n",
      "\n",
      "Global Workflow Options:\n",
      "  --wd '.'\n",
      "                        Work directory & output directory\n",
      "  --name ROSMAP\n",
      "                        The filename name for output data parameter: container =\n",
      "                        'gaow/twas' name for the analysis output\n",
      "  --job-size 1 (as int)\n",
      "                        For cluster jobs, number commands to run per job\n",
      "  --walltime 5h\n",
      "                        Wall clock time expected\n",
      "  --mem 16G\n",
      "                        Memory expected\n",
      "  --numThreads 20 (as int)\n",
      "                        Number of threads\n",
      "\n",
      "Sections\n",
      "  Residual_Y_1:         Get lm regression residual\n",
      "    Workflow Options:\n",
      "      --molecular-pheno-whole VAL (as path, required)\n",
      "                        Path to the input molecular phenotype data.\n",
      "      --factor VAL (as path, required)\n",
      "                        Path to the factor file\n",
      "  Residual_Y_2:         tabix via samtools\n"
     ]
    }
   ],
   "source": [
    "sos run remove_covariates.ipynb -h"
   ]
  },
  {
   "cell_type": "code",
   "execution_count": 7,
   "id": "tender-wright",
   "metadata": {
    "kernel": "SoS"
   },
   "outputs": [],
   "source": [
    "# Get lm regression residual\n",
    "[Residual_Y_1]\n",
    "# Path to the input molecular phenotype data.\n",
    "parameter: molecular_pheno_whole = path\n",
    "# Path to the factor file \n",
    "parameter: factor = path\n",
    "input: molecular_pheno_whole,factor\n",
    "output: f'{wd}/{name}.mol_phe.resid.bed'\n",
    "task: trunk_workers = 1, trunk_size = 1, walltime = '4h',  mem = '20G', tags = f'{step_name}_{_output[0]:bn}'\n",
    "R: expand = \"${ }\", stderr = f'{_output[0]}.stderr', stdout = f'{_output[0]}.stdout' , container = container\n",
    "\n",
    "    library(dplyr)\n",
    "    library(readr)\n",
    "\n",
    "    pheno = read_delim(${_input[0]:r},delim = \"\\t\")\n",
    "    factor= read_delim(${_input[1]:r},delim = \"\\t\")\n",
    "\n",
    "    # Extract samples in both files\n",
    "    extraction_sample_list <- intersect(colnames(pheno), colnames(factor)) \n",
    "    \n",
    "    \n",
    "    if(length(extraction_sample_list) == 0){\n",
    "      stop(\"No samples are overlapped in two files!\")\n",
    "    }\n",
    "    \n",
    "    # Report identical samples:\n",
    "    \n",
    "    print(\"Listed samples are included in the analysis:\")\n",
    "    print(extraction_sample_list)\n",
    "    \n",
    "    # Subset the data:\n",
    "    factor = factor[,extraction_sample_list]%>%as.matrix()%>%t()\n",
    "    pheno_id = pheno%>%select(1:4)\n",
    "    pheno = pheno%>%select(rownames(factor))%>%as.matrix()%>%t()\n",
    "    \n",
    "    # Get residual \n",
    "    pheno_resid = .lm.fit(x = factor, y = pheno)$residuals\n",
    "    pheno_output = cbind(pheno_id, pheno_resid%>%t())\n",
    "    pheno_output%>%write_delim(${_output[0]:r},delim = \"\\t\")\n",
    "\n",
    "# tabix via samtools\n",
    "[Residual_Y_2]\n",
    "output: f'{wd}/{name}.mol_phe.resid.bed.gz'\n",
    "task: trunk_workers = 1, trunk_size = 1, walltime = '4h',  mem = '20G', tags = f'{step_name}_{_output[0]:bn}'\n",
    "bash: expand = \"${ }\", stderr = f'{_output}.stderr', stdout = f'{_output}.stdout', container = container\n",
    "    bgzip -f ${_input}\n",
    "    tabix -p bed ${_output}"
   ]
  },
  {
   "cell_type": "markdown",
   "id": "surface-pilot",
   "metadata": {
    "kernel": "SoS"
   },
   "source": [
    "## Minimum working example:"
   ]
  },
  {
   "cell_type": "code",
   "execution_count": 8,
   "id": "thrown-entrance",
   "metadata": {
    "kernel": "Bash",
    "tags": []
   },
   "outputs": [
    {
     "name": "stdout",
     "output_type": "stream",
     "text": [
      "INFO: Running \u001b[32mResidual_Y_1\u001b[0m: Get lm regression residual\n",
      "INFO: \u001b[32mResidual_Y_1\u001b[0m is \u001b[32mcompleted\u001b[0m.\n",
      "INFO: \u001b[32mResidual_Y_1\u001b[0m output:   \u001b[32mROSMAP.mol_phe.resid.bed\u001b[0m\n",
      "INFO: Running \u001b[32mResidual_Y_2\u001b[0m: tabix via samtools\n",
      "INFO: \u001b[32mResidual_Y_2\u001b[0m is \u001b[32mcompleted\u001b[0m.\n",
      "INFO: \u001b[32mResidual_Y_2\u001b[0m output:   \u001b[32mROSMAP.mol_phe.resid.bed.gz\u001b[0m\n",
      "INFO: Workflow Residual_Y (ID=w046e6e2411a33ea0) is executed successfully with 2 completed steps.\n"
     ]
    }
   ],
   "source": [
    "sos run remove_covariates.ipynb Residual_Y \\\n",
    "    --molecular_pheno_whole PEER_example_data/Peer_example_data.bed \\\n",
    "    --factor PEER_example_data/Peer_example_cov.txt"
   ]
  },
  {
   "cell_type": "code",
   "execution_count": null,
   "id": "proved-command",
   "metadata": {
    "kernel": "Bash"
   },
   "outputs": [],
   "source": []
  }
 ],
 "metadata": {
  "kernelspec": {
   "display_name": "SoS",
   "language": "sos",
   "name": "sos"
  },
  "language_info": {
   "codemirror_mode": "sos",
   "file_extension": ".sos",
   "mimetype": "text/x-sos",
   "name": "sos",
   "nbconvert_exporter": "sos_notebook.converter.SoS_Exporter",
   "pygments_lexer": "sos"
  },
  "sos": {
   "kernels": [
    [
     "Bash",
     "bash",
     "Bash",
     "#E6EEFF",
     "shell"
    ],
    [
     "SoS",
     "sos",
     "",
     "",
     "sos"
    ]
   ],
   "version": "0.22.6"
  }
 },
 "nbformat": 4,
 "nbformat_minor": 5
}
