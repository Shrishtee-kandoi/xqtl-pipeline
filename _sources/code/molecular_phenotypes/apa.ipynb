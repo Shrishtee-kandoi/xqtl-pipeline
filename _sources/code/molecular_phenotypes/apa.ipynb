{
 "cells": [
  {
   "cell_type": "markdown",
   "id": "saved-kelly",
   "metadata": {
    "kernel": "SoS",
    "tags": []
   },
   "source": [
    "## Splicing events calling\n",
    "\n",
    "This document shows the use of modules to perm splicing QTL analysis. In particular,\n",
    "\n",
    "* splicing_calling.ipynb\n",
    "\n",
    "* PEER_factor.ipynb\n",
    "\n",
    "A minimal working example is available on ...\n"
   ]
  }
 ],
 "metadata": {
  "kernelspec": {
   "display_name": "SoS",
   "language": "sos",
   "name": "sos"
  },
  "language_info": {
   "codemirror_mode": "sos",
   "file_extension": ".sos",
   "mimetype": "text/x-sos",
   "name": "sos",
   "nbconvert_exporter": "sos_notebook.converter.SoS_Exporter",
   "pygments_lexer": "sos"
  },
  "sos": {
   "kernels": [
    [
     "SoS",
     "sos",
     "",
     ""
    ]
   ],
   "version": "0.22.4"
  }
 },
 "nbformat": 4,
 "nbformat_minor": 5
}
