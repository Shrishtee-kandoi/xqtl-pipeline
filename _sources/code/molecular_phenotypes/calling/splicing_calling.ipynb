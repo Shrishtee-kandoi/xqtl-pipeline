{
 "cells": [
  {
   "cell_type": "markdown",
   "id": "binding-ottawa",
   "metadata": {
    "kernel": "SoS",
    "tags": []
   },
   "source": [
    "# Quantifying alternative splicing from RNA-seq data\n",
    "\n",
    "This pipeline implements our pipeline to call alternative splicing events from RNA-seq data, using [`leafcutter`](https://www.nature.com/articles/s41588-017-0004-9) and [`psichomics`](https://academic.oup.com/nar/article/47/2/e7/5114259) to call the RNA-seq data from original `fastq.gz` data. It implements the GTEx pipeline for GTEx/TOPMed project. Please refer to [this page](https://github.com/broadinstitute/gtex-pipeline/blob/master/TOPMed_RNAseq_pipeline.md) for detail. The choice of pipeline modules in this project is supported by internal (unpublished) benchmarks from GTEx group.\n",
    "\n",
    "**Various reference data needs to be prepared before using this workflow**. [Here we provide a module](https://cumc.github.io/xqtl-pipeline/code/data_preprocessing/reference_data.html) to download and prepare the reference data. "
   ]
  },
  {
   "cell_type": "markdown",
   "id": "underlying-indie",
   "metadata": {
    "kernel": "SoS"
   },
   "source": [
    "## Methods overview\n",
    "\n",
    "There are many types of alternative splicing events. See [Wang et al (2008)](https://pubmed.ncbi.nlm.nih.gov/18978772/) For an illustration on different events. We will apply two methods to quantify alternative splicing:\n",
    "\n",
    "1. [`psichomics`](https://academic.oup.com/nar/article/47/2/e7/5114259) that quantifies each specific event. In particular the exon skipping event which is used also in GTEx sQTL analysis.\n",
    "2. [`leafcutter`](https://www.nature.com/articles/s41588-017-0004-9) to quantify the usage of alternatively excised introns. This collectively captures skipped exons, 5’ and 3’ alternative splice site usage and other complex events. The method was previously applied to ROSMAP data as part of the Brain xQTL version 2.0. "
   ]
  },
  {
   "cell_type": "markdown",
   "id": "active-bathroom",
   "metadata": {
    "kernel": "SoS"
   },
   "source": [
    "## Input\n",
    "\n",
    "A meta-data file, white space delimited without header, containing 2 columns: sample ID, BAM file:\n",
    "\n",
    "```\n",
    "sample_1 samp1.bam\n",
    "sample_2 samp2.bam\n",
    "sample_3 samp3.bam\n",
    "```\n",
    "\n",
    "All the BAM files should be available under specified folder (default assumes the same folder as where the meta-data file is)."
   ]
  },
  {
   "cell_type": "markdown",
   "id": "amazing-costs",
   "metadata": {
    "kernel": "SoS"
   },
   "source": [
    "## Output\n",
    "\n",
    "- `leafcutter`: counts for each intron cluster within a gene, as well as intron usage ratio\n",
    "- `psichomics`: ..."
   ]
  },
  {
   "cell_type": "markdown",
   "id": "quarterly-lighting",
   "metadata": {
    "kernel": "SoS"
   },
   "source": [
    "## Minimal working example\n",
    "\n",
    "A toy `BAM` data can be found on ..."
   ]
  },
  {
   "cell_type": "markdown",
   "id": "professional-recruitment",
   "metadata": {
    "kernel": "SoS"
   },
   "source": [
    "### For `leafcutter`"
   ]
  },
  {
   "cell_type": "code",
   "execution_count": null,
   "id": "specialized-craft",
   "metadata": {
    "kernel": "Bash"
   },
   "outputs": [],
   "source": [
    "sos run splicing_calling.ipynb leafcutter \\\n",
    "    --cwd output/rnaseq/splicing \\\n",
    "    --samples data/sample_bam.list \\\n",
    "    --data-dir data \\\n",
    "    --container container/splicing.sif"
   ]
  },
  {
   "cell_type": "markdown",
   "id": "caroline-handbook",
   "metadata": {
    "kernel": "Bash"
   },
   "source": [
    "### For `psichomics`"
   ]
  },
  {
   "cell_type": "code",
   "execution_count": null,
   "id": "forty-stocks",
   "metadata": {
    "kernel": "Bash"
   },
   "outputs": [],
   "source": [
    "sos run splicing_calling.ipynb psichomics \\\n",
    "    --cwd output/rnaseq/splicing \\\n",
    "    --samples data/sample_bam.list \\\n",
    "    --data-dir data \\\n",
    "    --container container/splicing.sif"
   ]
  },
  {
   "cell_type": "markdown",
   "id": "bizarre-member",
   "metadata": {
    "kernel": "Bash"
   },
   "source": [
    "## Command interface"
   ]
  },
  {
   "cell_type": "code",
   "execution_count": 3,
   "id": "mineral-motorcycle",
   "metadata": {
    "kernel": "Bash"
   },
   "outputs": [
    {
     "name": "stdout",
     "output_type": "stream",
     "text": [
      "usage: sos run splicing_calling.ipynb\n",
      "               [workflow_name | -t targets] [options] [workflow_options]\n",
      "  workflow_name:        Single or combined workflows defined in this script\n",
      "  targets:              One or more targets to generate\n",
      "  options:              Single-hyphen sos parameters (see \"sos run -h\" for details)\n",
      "  workflow_options:     Double-hyphen workflow-specific parameters\n",
      "\n",
      "Workflows:\n",
      "  leafcutter\n",
      "\n",
      "Global Workflow Options:\n",
      "  --cwd output (as path)\n",
      "                        The output directory for generated files.\n",
      "  --samples VAL (as path, required)\n",
      "                        Sample meta data list\n",
      "  --data-dir  path(f\"{samples:d}\")\n",
      "\n",
      "                        Raw data directory, default to the same directory as\n",
      "                        sample list\n",
      "  --job-size 1 (as int)\n",
      "                        For cluster jobs, number commands to run per job\n",
      "  --walltime 5h\n",
      "                        Wall clock time expected\n",
      "  --mem 16G\n",
      "                        Memory expected\n",
      "  --numThreads 8 (as int)\n",
      "                        Number of threads\n",
      "  --container ''\n",
      "                        Software container option\n",
      "\n",
      "Sections\n",
      "  leafcutter_1:\n",
      "    Workflow Options:\n",
      "      --min-anchor-len 8 (as int)\n",
      "      --min-split-reads 50 (as int)\n",
      "      --max-intron-len 500000 (as int)\n",
      "  leafcutter_2:\n",
      "    Workflow Options:\n",
      "      --min-split-reads 50 (as int)\n",
      "      --max-intron-len 500000 (as int)\n"
     ]
    }
   ],
   "source": [
    "sos run splicing_calling.ipynb -h"
   ]
  },
  {
   "cell_type": "markdown",
   "id": "affected-ontario",
   "metadata": {
    "kernel": "SoS"
   },
   "source": [
    "## Setup and global parameters"
   ]
  },
  {
   "cell_type": "code",
   "execution_count": 6,
   "id": "australian-declaration",
   "metadata": {
    "kernel": "SoS"
   },
   "outputs": [],
   "source": [
    "[global]\n",
    "# The output directory for generated files. \n",
    "parameter: cwd = path(\"output\")\n",
    "# Sample meta data list\n",
    "parameter: samples = path\n",
    "# Raw data directory, default to the same directory as sample list\n",
    "parameter: data_dir = path(f\"{samples:d}\")\n",
    "# For cluster jobs, number commands to run per job\n",
    "parameter: job_size = 1\n",
    "# Wall clock time expected\n",
    "parameter: walltime = \"5h\"\n",
    "# Memory expected\n",
    "parameter: mem = \"16G\"\n",
    "# Number of threads\n",
    "parameter: numThreads = 8\n",
    "# Software container option\n",
    "parameter: container = \"\"\n",
    "from sos.utils import expand_size\n",
    "cwd = path(f'{cwd:a}')\n",
    "\n",
    "\n",
    "def get_samples(fn, dr):\n",
    "    import os\n",
    "    samples = [x.strip().split() for x in open(fn).readlines()]\n",
    "    names = []\n",
    "    files = []\n",
    "    for i, x in enumerate(samples):\n",
    "        if len(x)<3:\n",
    "            raise ValueError(f\"Line {i+1} of file {fn} must have 2 columns\")\n",
    "        names.append(x[0])\n",
    "        for y in x[1:]:\n",
    "            y = os.path.join(dr, y)\n",
    "            if not os.path.isfile(y):\n",
    "                raise ValueError(f\"File {y} does not exist\")\n",
    "            files.append(y)\n",
    "    if len(files) != len(set(files)):\n",
    "        raise ValueError(\"Duplicated files are found (but should not be allowed) in BAM file list\")\n",
    "    return names, files\n",
    "\n",
    "sample_id, bam = get_samples(samples, data_dir)"
   ]
  },
  {
   "cell_type": "markdown",
   "id": "rotary-leisure",
   "metadata": {
    "kernel": "SoS"
   },
   "source": [
    "## `leafcutter`\n",
    "\n",
    "Documentation: [`leafcutter`](https://davidaknowles.github.io/leafcutter/index.html). The choices of regtool parameters are [discussed here](https://github.com/davidaknowles/leafcutter/issues/127).\n"
   ]
  },
  {
   "cell_type": "code",
   "execution_count": 7,
   "id": "aerial-temperature",
   "metadata": {
    "kernel": "SoS"
   },
   "outputs": [],
   "source": [
    "[leafcutter_1]\n",
    "parameter: min_anchor_len = 8\n",
    "parameter: min_split_reads = 50\n",
    "parameter: max_intron_len = 500000\n",
    "input: bam, group_by = 1\n",
    "output: f'{cwd}/{_input:bn}.junc' \n",
    "task: trunk_workers = 1, trunk_size = job_size, walltime = walltime, mem = mem, cores = numThreads\n",
    "bash: expand= \"${ }\", stderr = f'{_output:n}.stderr', stdout = f'{_output:n}.stdout', container=container\n",
    "    regtools junctions extract -a ${min_anchor_len} -m ${min_split_reads} -M ${max_intron_len} ${_input} -o ${_input}.junc"
   ]
  },
  {
   "cell_type": "code",
   "execution_count": 7,
   "id": "going-history",
   "metadata": {
    "kernel": "SoS"
   },
   "outputs": [],
   "source": [
    "[leafcutter_2]\n",
    "parameter: min_split_reads = 50\n",
    "parameter: max_intron_len = 500000\n",
    "input: group_by = 'all'\n",
    "output: f'{cwd}/{samples:bn}_intron_usage.counts.gz' \n",
    "task: trunk_workers = 1, trunk_size = job_size, walltime = walltime, mem = mem, cores = numThreads\n",
    "bash: expand= \"${ }\", stderr = f'{_output[0]:n}.stderr', stdout = f'{_output[0]:n}.stdout', container=container\n",
    "    cat ${_input} > ${_output:nn}.junc\n",
    "    leafcutter_cluster_regtools.py -j ${_output:nn}.junc -m ${min_split_reads} -o ${_output:nn} -l ${max_intron_len}"
   ]
  },
  {
   "cell_type": "markdown",
   "id": "instant-reception",
   "metadata": {
    "kernel": "SoS"
   },
   "source": [
    "## `psichomics`\n",
    "\n",
    "Documentation: [`psichomics`](http://bioconductor.org/packages/release/bioc/html/psichomics.html)"
   ]
  }
 ],
 "metadata": {
  "kernelspec": {
   "display_name": "SoS",
   "language": "sos",
   "name": "sos"
  },
  "language_info": {
   "codemirror_mode": "sos",
   "file_extension": ".sos",
   "mimetype": "text/x-sos",
   "name": "sos",
   "nbconvert_exporter": "sos_notebook.converter.SoS_Exporter",
   "pygments_lexer": "sos"
  },
  "sos": {
   "kernels": [
    [
     "Bash",
     "bash",
     "Bash",
     "#E6EEFF",
     "shell"
    ],
    [
     "SoS",
     "sos",
     "",
     "",
     "sos"
    ]
   ],
   "version": "0.22.9"
  }
 },
 "nbformat": 4,
 "nbformat_minor": 5
}
